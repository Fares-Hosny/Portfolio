{
 "cells": [
  {
   "cell_type": "code",
   "execution_count": 2,
   "metadata": {},
   "outputs": [],
   "source": [
    "import pandas as pd \n",
    "import numpy as np \n",
    "from scipy import stats\n",
    "import seaborn as sns \n",
    "import matplotlib.pyplot as plt \n",
    "%matplotlib inline"
   ]
  },
  {
   "cell_type": "code",
   "execution_count": 3,
   "metadata": {},
   "outputs": [],
   "source": [
    "plt.rcParams[\"figure.figsize\"] = (12, 8)"
   ]
  },
  {
   "cell_type": "code",
   "execution_count": 4,
   "metadata": {},
   "outputs": [],
   "source": [
    "df = pd.read_csv('ks-projects-201801.csv')"
   ]
  },
  {
   "cell_type": "code",
   "execution_count": 5,
   "metadata": {},
   "outputs": [
    {
     "data": {
      "text/html": [
       "<div>\n",
       "<style scoped>\n",
       "    .dataframe tbody tr th:only-of-type {\n",
       "        vertical-align: middle;\n",
       "    }\n",
       "\n",
       "    .dataframe tbody tr th {\n",
       "        vertical-align: top;\n",
       "    }\n",
       "\n",
       "    .dataframe thead th {\n",
       "        text-align: right;\n",
       "    }\n",
       "</style>\n",
       "<table border=\"1\" class=\"dataframe\">\n",
       "  <thead>\n",
       "    <tr style=\"text-align: right;\">\n",
       "      <th></th>\n",
       "      <th>ID</th>\n",
       "      <th>name</th>\n",
       "      <th>category</th>\n",
       "      <th>main_category</th>\n",
       "      <th>currency</th>\n",
       "      <th>deadline</th>\n",
       "      <th>goal</th>\n",
       "      <th>launched</th>\n",
       "      <th>pledged</th>\n",
       "      <th>state</th>\n",
       "      <th>backers</th>\n",
       "      <th>country</th>\n",
       "      <th>usd pledged</th>\n",
       "      <th>usd_pledged_real</th>\n",
       "      <th>usd_goal_real</th>\n",
       "    </tr>\n",
       "  </thead>\n",
       "  <tbody>\n",
       "    <tr>\n",
       "      <th>0</th>\n",
       "      <td>1000002330</td>\n",
       "      <td>The Songs of Adelaide &amp; Abullah</td>\n",
       "      <td>Poetry</td>\n",
       "      <td>Publishing</td>\n",
       "      <td>GBP</td>\n",
       "      <td>2015-10-09</td>\n",
       "      <td>1000.0</td>\n",
       "      <td>2015-08-11 12:12:28</td>\n",
       "      <td>0.0</td>\n",
       "      <td>failed</td>\n",
       "      <td>0</td>\n",
       "      <td>GB</td>\n",
       "      <td>0.0</td>\n",
       "      <td>0.0</td>\n",
       "      <td>1533.95</td>\n",
       "    </tr>\n",
       "    <tr>\n",
       "      <th>1</th>\n",
       "      <td>1000003930</td>\n",
       "      <td>Greeting From Earth: ZGAC Arts Capsule For ET</td>\n",
       "      <td>Narrative Film</td>\n",
       "      <td>Film &amp; Video</td>\n",
       "      <td>USD</td>\n",
       "      <td>2017-11-01</td>\n",
       "      <td>30000.0</td>\n",
       "      <td>2017-09-02 04:43:57</td>\n",
       "      <td>2421.0</td>\n",
       "      <td>failed</td>\n",
       "      <td>15</td>\n",
       "      <td>US</td>\n",
       "      <td>100.0</td>\n",
       "      <td>2421.0</td>\n",
       "      <td>30000.00</td>\n",
       "    </tr>\n",
       "    <tr>\n",
       "      <th>2</th>\n",
       "      <td>1000004038</td>\n",
       "      <td>Where is Hank?</td>\n",
       "      <td>Narrative Film</td>\n",
       "      <td>Film &amp; Video</td>\n",
       "      <td>USD</td>\n",
       "      <td>2013-02-26</td>\n",
       "      <td>45000.0</td>\n",
       "      <td>2013-01-12 00:20:50</td>\n",
       "      <td>220.0</td>\n",
       "      <td>failed</td>\n",
       "      <td>3</td>\n",
       "      <td>US</td>\n",
       "      <td>220.0</td>\n",
       "      <td>220.0</td>\n",
       "      <td>45000.00</td>\n",
       "    </tr>\n",
       "    <tr>\n",
       "      <th>3</th>\n",
       "      <td>1000007540</td>\n",
       "      <td>ToshiCapital Rekordz Needs Help to Complete Album</td>\n",
       "      <td>Music</td>\n",
       "      <td>Music</td>\n",
       "      <td>USD</td>\n",
       "      <td>2012-04-16</td>\n",
       "      <td>5000.0</td>\n",
       "      <td>2012-03-17 03:24:11</td>\n",
       "      <td>1.0</td>\n",
       "      <td>failed</td>\n",
       "      <td>1</td>\n",
       "      <td>US</td>\n",
       "      <td>1.0</td>\n",
       "      <td>1.0</td>\n",
       "      <td>5000.00</td>\n",
       "    </tr>\n",
       "    <tr>\n",
       "      <th>4</th>\n",
       "      <td>1000011046</td>\n",
       "      <td>Community Film Project: The Art of Neighborhoo...</td>\n",
       "      <td>Film &amp; Video</td>\n",
       "      <td>Film &amp; Video</td>\n",
       "      <td>USD</td>\n",
       "      <td>2015-08-29</td>\n",
       "      <td>19500.0</td>\n",
       "      <td>2015-07-04 08:35:03</td>\n",
       "      <td>1283.0</td>\n",
       "      <td>canceled</td>\n",
       "      <td>14</td>\n",
       "      <td>US</td>\n",
       "      <td>1283.0</td>\n",
       "      <td>1283.0</td>\n",
       "      <td>19500.00</td>\n",
       "    </tr>\n",
       "  </tbody>\n",
       "</table>\n",
       "</div>"
      ],
      "text/plain": [
       "           ID                                               name  \\\n",
       "0  1000002330                    The Songs of Adelaide & Abullah   \n",
       "1  1000003930      Greeting From Earth: ZGAC Arts Capsule For ET   \n",
       "2  1000004038                                     Where is Hank?   \n",
       "3  1000007540  ToshiCapital Rekordz Needs Help to Complete Album   \n",
       "4  1000011046  Community Film Project: The Art of Neighborhoo...   \n",
       "\n",
       "         category main_category currency    deadline     goal  \\\n",
       "0          Poetry    Publishing      GBP  2015-10-09   1000.0   \n",
       "1  Narrative Film  Film & Video      USD  2017-11-01  30000.0   \n",
       "2  Narrative Film  Film & Video      USD  2013-02-26  45000.0   \n",
       "3           Music         Music      USD  2012-04-16   5000.0   \n",
       "4    Film & Video  Film & Video      USD  2015-08-29  19500.0   \n",
       "\n",
       "              launched  pledged     state  backers country  usd pledged  \\\n",
       "0  2015-08-11 12:12:28      0.0    failed        0      GB          0.0   \n",
       "1  2017-09-02 04:43:57   2421.0    failed       15      US        100.0   \n",
       "2  2013-01-12 00:20:50    220.0    failed        3      US        220.0   \n",
       "3  2012-03-17 03:24:11      1.0    failed        1      US          1.0   \n",
       "4  2015-07-04 08:35:03   1283.0  canceled       14      US       1283.0   \n",
       "\n",
       "   usd_pledged_real  usd_goal_real  \n",
       "0               0.0        1533.95  \n",
       "1            2421.0       30000.00  \n",
       "2             220.0       45000.00  \n",
       "3               1.0        5000.00  \n",
       "4            1283.0       19500.00  "
      ]
     },
     "execution_count": 5,
     "metadata": {},
     "output_type": "execute_result"
    }
   ],
   "source": [
    "df.head()"
   ]
  },
  {
   "cell_type": "code",
   "execution_count": 6,
   "metadata": {},
   "outputs": [
    {
     "name": "stdout",
     "output_type": "stream",
     "text": [
      "<class 'pandas.core.frame.DataFrame'>\n",
      "RangeIndex: 378661 entries, 0 to 378660\n",
      "Data columns (total 15 columns):\n",
      " #   Column            Non-Null Count   Dtype  \n",
      "---  ------            --------------   -----  \n",
      " 0   ID                378661 non-null  int64  \n",
      " 1   name              378657 non-null  object \n",
      " 2   category          378661 non-null  object \n",
      " 3   main_category     378661 non-null  object \n",
      " 4   currency          378661 non-null  object \n",
      " 5   deadline          378661 non-null  object \n",
      " 6   goal              378661 non-null  float64\n",
      " 7   launched          378661 non-null  object \n",
      " 8   pledged           378661 non-null  float64\n",
      " 9   state             378661 non-null  object \n",
      " 10  backers           378661 non-null  int64  \n",
      " 11  country           378661 non-null  object \n",
      " 12  usd pledged       374864 non-null  float64\n",
      " 13  usd_pledged_real  378661 non-null  float64\n",
      " 14  usd_goal_real     378661 non-null  float64\n",
      "dtypes: float64(5), int64(2), object(8)\n",
      "memory usage: 43.3+ MB\n"
     ]
    }
   ],
   "source": [
    "df.info()"
   ]
  },
  {
   "cell_type": "code",
   "execution_count": 7,
   "metadata": {},
   "outputs": [
    {
     "data": {
      "text/plain": [
       "ID                     0\n",
       "name                   4\n",
       "category               0\n",
       "main_category          0\n",
       "currency               0\n",
       "deadline               0\n",
       "goal                   0\n",
       "launched               0\n",
       "pledged                0\n",
       "state                  0\n",
       "backers                0\n",
       "country                0\n",
       "usd pledged         3797\n",
       "usd_pledged_real       0\n",
       "usd_goal_real          0\n",
       "dtype: int64"
      ]
     },
     "execution_count": 7,
     "metadata": {},
     "output_type": "execute_result"
    }
   ],
   "source": [
    "df.isna().sum()"
   ]
  },
  {
   "cell_type": "code",
   "execution_count": 8,
   "metadata": {},
   "outputs": [],
   "source": [
    "df.dropna(inplace=True)"
   ]
  },
  {
   "cell_type": "code",
   "execution_count": 9,
   "metadata": {},
   "outputs": [
    {
     "data": {
      "text/html": [
       "<div>\n",
       "<style scoped>\n",
       "    .dataframe tbody tr th:only-of-type {\n",
       "        vertical-align: middle;\n",
       "    }\n",
       "\n",
       "    .dataframe tbody tr th {\n",
       "        vertical-align: top;\n",
       "    }\n",
       "\n",
       "    .dataframe thead th {\n",
       "        text-align: right;\n",
       "    }\n",
       "</style>\n",
       "<table border=\"1\" class=\"dataframe\">\n",
       "  <thead>\n",
       "    <tr style=\"text-align: right;\">\n",
       "      <th></th>\n",
       "      <th>ID</th>\n",
       "      <th>name</th>\n",
       "      <th>category</th>\n",
       "      <th>main_category</th>\n",
       "      <th>currency</th>\n",
       "      <th>deadline</th>\n",
       "      <th>goal</th>\n",
       "      <th>launched</th>\n",
       "      <th>pledged</th>\n",
       "      <th>state</th>\n",
       "      <th>backers</th>\n",
       "      <th>country</th>\n",
       "      <th>usd pledged</th>\n",
       "      <th>usd_pledged_real</th>\n",
       "      <th>usd_goal_real</th>\n",
       "    </tr>\n",
       "  </thead>\n",
       "  <tbody>\n",
       "    <tr>\n",
       "      <th>0</th>\n",
       "      <td>1000002330</td>\n",
       "      <td>The Songs of Adelaide &amp; Abullah</td>\n",
       "      <td>Poetry</td>\n",
       "      <td>Publishing</td>\n",
       "      <td>GBP</td>\n",
       "      <td>2015-10-09</td>\n",
       "      <td>1000.0</td>\n",
       "      <td>2015-08-11 12:12:28</td>\n",
       "      <td>0.0</td>\n",
       "      <td>failed</td>\n",
       "      <td>0</td>\n",
       "      <td>GB</td>\n",
       "      <td>0.0</td>\n",
       "      <td>0.0</td>\n",
       "      <td>1533.95</td>\n",
       "    </tr>\n",
       "    <tr>\n",
       "      <th>1</th>\n",
       "      <td>1000003930</td>\n",
       "      <td>Greeting From Earth: ZGAC Arts Capsule For ET</td>\n",
       "      <td>Narrative Film</td>\n",
       "      <td>Film &amp; Video</td>\n",
       "      <td>USD</td>\n",
       "      <td>2017-11-01</td>\n",
       "      <td>30000.0</td>\n",
       "      <td>2017-09-02 04:43:57</td>\n",
       "      <td>2421.0</td>\n",
       "      <td>failed</td>\n",
       "      <td>15</td>\n",
       "      <td>US</td>\n",
       "      <td>100.0</td>\n",
       "      <td>2421.0</td>\n",
       "      <td>30000.00</td>\n",
       "    </tr>\n",
       "    <tr>\n",
       "      <th>2</th>\n",
       "      <td>1000004038</td>\n",
       "      <td>Where is Hank?</td>\n",
       "      <td>Narrative Film</td>\n",
       "      <td>Film &amp; Video</td>\n",
       "      <td>USD</td>\n",
       "      <td>2013-02-26</td>\n",
       "      <td>45000.0</td>\n",
       "      <td>2013-01-12 00:20:50</td>\n",
       "      <td>220.0</td>\n",
       "      <td>failed</td>\n",
       "      <td>3</td>\n",
       "      <td>US</td>\n",
       "      <td>220.0</td>\n",
       "      <td>220.0</td>\n",
       "      <td>45000.00</td>\n",
       "    </tr>\n",
       "    <tr>\n",
       "      <th>3</th>\n",
       "      <td>1000007540</td>\n",
       "      <td>ToshiCapital Rekordz Needs Help to Complete Album</td>\n",
       "      <td>Music</td>\n",
       "      <td>Music</td>\n",
       "      <td>USD</td>\n",
       "      <td>2012-04-16</td>\n",
       "      <td>5000.0</td>\n",
       "      <td>2012-03-17 03:24:11</td>\n",
       "      <td>1.0</td>\n",
       "      <td>failed</td>\n",
       "      <td>1</td>\n",
       "      <td>US</td>\n",
       "      <td>1.0</td>\n",
       "      <td>1.0</td>\n",
       "      <td>5000.00</td>\n",
       "    </tr>\n",
       "    <tr>\n",
       "      <th>4</th>\n",
       "      <td>1000011046</td>\n",
       "      <td>Community Film Project: The Art of Neighborhoo...</td>\n",
       "      <td>Film &amp; Video</td>\n",
       "      <td>Film &amp; Video</td>\n",
       "      <td>USD</td>\n",
       "      <td>2015-08-29</td>\n",
       "      <td>19500.0</td>\n",
       "      <td>2015-07-04 08:35:03</td>\n",
       "      <td>1283.0</td>\n",
       "      <td>canceled</td>\n",
       "      <td>14</td>\n",
       "      <td>US</td>\n",
       "      <td>1283.0</td>\n",
       "      <td>1283.0</td>\n",
       "      <td>19500.00</td>\n",
       "    </tr>\n",
       "  </tbody>\n",
       "</table>\n",
       "</div>"
      ],
      "text/plain": [
       "           ID                                               name  \\\n",
       "0  1000002330                    The Songs of Adelaide & Abullah   \n",
       "1  1000003930      Greeting From Earth: ZGAC Arts Capsule For ET   \n",
       "2  1000004038                                     Where is Hank?   \n",
       "3  1000007540  ToshiCapital Rekordz Needs Help to Complete Album   \n",
       "4  1000011046  Community Film Project: The Art of Neighborhoo...   \n",
       "\n",
       "         category main_category currency    deadline     goal  \\\n",
       "0          Poetry    Publishing      GBP  2015-10-09   1000.0   \n",
       "1  Narrative Film  Film & Video      USD  2017-11-01  30000.0   \n",
       "2  Narrative Film  Film & Video      USD  2013-02-26  45000.0   \n",
       "3           Music         Music      USD  2012-04-16   5000.0   \n",
       "4    Film & Video  Film & Video      USD  2015-08-29  19500.0   \n",
       "\n",
       "              launched  pledged     state  backers country  usd pledged  \\\n",
       "0  2015-08-11 12:12:28      0.0    failed        0      GB          0.0   \n",
       "1  2017-09-02 04:43:57   2421.0    failed       15      US        100.0   \n",
       "2  2013-01-12 00:20:50    220.0    failed        3      US        220.0   \n",
       "3  2012-03-17 03:24:11      1.0    failed        1      US          1.0   \n",
       "4  2015-07-04 08:35:03   1283.0  canceled       14      US       1283.0   \n",
       "\n",
       "   usd_pledged_real  usd_goal_real  \n",
       "0               0.0        1533.95  \n",
       "1            2421.0       30000.00  \n",
       "2             220.0       45000.00  \n",
       "3               1.0        5000.00  \n",
       "4            1283.0       19500.00  "
      ]
     },
     "execution_count": 9,
     "metadata": {},
     "output_type": "execute_result"
    }
   ],
   "source": [
    "df.head()"
   ]
  },
  {
   "cell_type": "code",
   "execution_count": 10,
   "metadata": {},
   "outputs": [],
   "source": [
    "df['deadline'] = pd.to_datetime(df['deadline'])\n",
    "df['launched'] = pd.to_datetime(df['launched'])\n",
    "\n",
    "df['launched_year'] = df['launched'].apply(lambda time: time.year)\n",
    "df['launched_month'] = df['launched'].apply(lambda time: time.month)\n",
    "df['deadline_year'] = df['deadline'].apply(lambda time: time.year)\n",
    "df['deadline_month'] = df['deadline'].apply(lambda time: time.month)"
   ]
  },
  {
   "cell_type": "code",
   "execution_count": 11,
   "metadata": {},
   "outputs": [
    {
     "data": {
      "text/html": [
       "<div>\n",
       "<style scoped>\n",
       "    .dataframe tbody tr th:only-of-type {\n",
       "        vertical-align: middle;\n",
       "    }\n",
       "\n",
       "    .dataframe tbody tr th {\n",
       "        vertical-align: top;\n",
       "    }\n",
       "\n",
       "    .dataframe thead th {\n",
       "        text-align: right;\n",
       "    }\n",
       "</style>\n",
       "<table border=\"1\" class=\"dataframe\">\n",
       "  <thead>\n",
       "    <tr style=\"text-align: right;\">\n",
       "      <th></th>\n",
       "      <th>ID</th>\n",
       "      <th>name</th>\n",
       "      <th>category</th>\n",
       "      <th>main_category</th>\n",
       "      <th>currency</th>\n",
       "      <th>deadline</th>\n",
       "      <th>goal</th>\n",
       "      <th>launched</th>\n",
       "      <th>pledged</th>\n",
       "      <th>state</th>\n",
       "      <th>backers</th>\n",
       "      <th>country</th>\n",
       "      <th>usd pledged</th>\n",
       "      <th>usd_pledged_real</th>\n",
       "      <th>usd_goal_real</th>\n",
       "      <th>launched_year</th>\n",
       "      <th>launched_month</th>\n",
       "      <th>deadline_year</th>\n",
       "      <th>deadline_month</th>\n",
       "    </tr>\n",
       "  </thead>\n",
       "  <tbody>\n",
       "    <tr>\n",
       "      <th>161280</th>\n",
       "      <td>1820351995</td>\n",
       "      <td>A Social State Music Video: A Zombie Trash the...</td>\n",
       "      <td>Music Videos</td>\n",
       "      <td>Film &amp; Video</td>\n",
       "      <td>USD</td>\n",
       "      <td>2014-10-05</td>\n",
       "      <td>2000.0</td>\n",
       "      <td>2014-09-05 21:22:31</td>\n",
       "      <td>520.0</td>\n",
       "      <td>failed</td>\n",
       "      <td>20</td>\n",
       "      <td>US</td>\n",
       "      <td>520.00</td>\n",
       "      <td>520.00</td>\n",
       "      <td>2000.00</td>\n",
       "      <td>2014</td>\n",
       "      <td>9</td>\n",
       "      <td>2014</td>\n",
       "      <td>10</td>\n",
       "    </tr>\n",
       "    <tr>\n",
       "      <th>90958</th>\n",
       "      <td>1462248110</td>\n",
       "      <td>Arjuna Card Game - Conquer the Battle of Every...</td>\n",
       "      <td>Playing Cards</td>\n",
       "      <td>Games</td>\n",
       "      <td>USD</td>\n",
       "      <td>2017-06-11</td>\n",
       "      <td>1200.0</td>\n",
       "      <td>2017-05-12 23:43:13</td>\n",
       "      <td>179.0</td>\n",
       "      <td>failed</td>\n",
       "      <td>8</td>\n",
       "      <td>US</td>\n",
       "      <td>26.00</td>\n",
       "      <td>179.00</td>\n",
       "      <td>1200.00</td>\n",
       "      <td>2017</td>\n",
       "      <td>5</td>\n",
       "      <td>2017</td>\n",
       "      <td>6</td>\n",
       "    </tr>\n",
       "    <tr>\n",
       "      <th>165442</th>\n",
       "      <td>1841761543</td>\n",
       "      <td>SYSTOLE</td>\n",
       "      <td>Video Games</td>\n",
       "      <td>Games</td>\n",
       "      <td>USD</td>\n",
       "      <td>2015-09-04</td>\n",
       "      <td>55000.0</td>\n",
       "      <td>2015-08-06 01:27:39</td>\n",
       "      <td>1246.0</td>\n",
       "      <td>failed</td>\n",
       "      <td>33</td>\n",
       "      <td>US</td>\n",
       "      <td>1246.00</td>\n",
       "      <td>1246.00</td>\n",
       "      <td>55000.00</td>\n",
       "      <td>2015</td>\n",
       "      <td>8</td>\n",
       "      <td>2015</td>\n",
       "      <td>9</td>\n",
       "    </tr>\n",
       "    <tr>\n",
       "      <th>256954</th>\n",
       "      <td>376631036</td>\n",
       "      <td>55mm D20 Monster Mega Countdown Dice</td>\n",
       "      <td>Tabletop Games</td>\n",
       "      <td>Games</td>\n",
       "      <td>USD</td>\n",
       "      <td>2017-10-21</td>\n",
       "      <td>1000.0</td>\n",
       "      <td>2017-09-26 18:11:01</td>\n",
       "      <td>4467.0</td>\n",
       "      <td>successful</td>\n",
       "      <td>251</td>\n",
       "      <td>US</td>\n",
       "      <td>789.00</td>\n",
       "      <td>4467.00</td>\n",
       "      <td>1000.00</td>\n",
       "      <td>2017</td>\n",
       "      <td>9</td>\n",
       "      <td>2017</td>\n",
       "      <td>10</td>\n",
       "    </tr>\n",
       "    <tr>\n",
       "      <th>110217</th>\n",
       "      <td>1560110415</td>\n",
       "      <td>Dreamcamp innovation I</td>\n",
       "      <td>Art</td>\n",
       "      <td>Art</td>\n",
       "      <td>NOK</td>\n",
       "      <td>2015-10-05</td>\n",
       "      <td>10000000.0</td>\n",
       "      <td>2015-09-05 14:44:49</td>\n",
       "      <td>200.0</td>\n",
       "      <td>failed</td>\n",
       "      <td>2</td>\n",
       "      <td>NO</td>\n",
       "      <td>24.15</td>\n",
       "      <td>24.73</td>\n",
       "      <td>1236414.89</td>\n",
       "      <td>2015</td>\n",
       "      <td>9</td>\n",
       "      <td>2015</td>\n",
       "      <td>10</td>\n",
       "    </tr>\n",
       "    <tr>\n",
       "      <th>288577</th>\n",
       "      <td>538412083</td>\n",
       "      <td>Tipton's Niptons Nipple Pasties</td>\n",
       "      <td>Product Design</td>\n",
       "      <td>Design</td>\n",
       "      <td>USD</td>\n",
       "      <td>2015-02-14</td>\n",
       "      <td>3333.0</td>\n",
       "      <td>2015-01-27 05:29:48</td>\n",
       "      <td>140.0</td>\n",
       "      <td>failed</td>\n",
       "      <td>6</td>\n",
       "      <td>US</td>\n",
       "      <td>140.00</td>\n",
       "      <td>140.00</td>\n",
       "      <td>3333.00</td>\n",
       "      <td>2015</td>\n",
       "      <td>1</td>\n",
       "      <td>2015</td>\n",
       "      <td>2</td>\n",
       "    </tr>\n",
       "    <tr>\n",
       "      <th>209822</th>\n",
       "      <td>206937436</td>\n",
       "      <td>Bubble-T : the electric flying vehicle</td>\n",
       "      <td>Flight</td>\n",
       "      <td>Technology</td>\n",
       "      <td>EUR</td>\n",
       "      <td>2015-07-17</td>\n",
       "      <td>3000.0</td>\n",
       "      <td>2015-06-17 21:44:27</td>\n",
       "      <td>2041.0</td>\n",
       "      <td>failed</td>\n",
       "      <td>3</td>\n",
       "      <td>FR</td>\n",
       "      <td>2300.49</td>\n",
       "      <td>2222.44</td>\n",
       "      <td>3266.69</td>\n",
       "      <td>2015</td>\n",
       "      <td>6</td>\n",
       "      <td>2015</td>\n",
       "      <td>7</td>\n",
       "    </tr>\n",
       "    <tr>\n",
       "      <th>40501</th>\n",
       "      <td>120601501</td>\n",
       "      <td>World's Best Travel Bag &amp; Jacket (Sports, Mult...</td>\n",
       "      <td>Product Design</td>\n",
       "      <td>Design</td>\n",
       "      <td>USD</td>\n",
       "      <td>2016-12-01</td>\n",
       "      <td>7500.0</td>\n",
       "      <td>2016-11-10 14:01:08</td>\n",
       "      <td>6620.0</td>\n",
       "      <td>canceled</td>\n",
       "      <td>44</td>\n",
       "      <td>US</td>\n",
       "      <td>1173.00</td>\n",
       "      <td>6620.00</td>\n",
       "      <td>7500.00</td>\n",
       "      <td>2016</td>\n",
       "      <td>11</td>\n",
       "      <td>2016</td>\n",
       "      <td>12</td>\n",
       "    </tr>\n",
       "    <tr>\n",
       "      <th>61392</th>\n",
       "      <td>1312342328</td>\n",
       "      <td>Charlotte Sophia</td>\n",
       "      <td>Theater</td>\n",
       "      <td>Theater</td>\n",
       "      <td>USD</td>\n",
       "      <td>2011-11-01</td>\n",
       "      <td>16500.0</td>\n",
       "      <td>2011-09-23 00:00:12</td>\n",
       "      <td>2646.0</td>\n",
       "      <td>failed</td>\n",
       "      <td>21</td>\n",
       "      <td>US</td>\n",
       "      <td>2646.00</td>\n",
       "      <td>2646.00</td>\n",
       "      <td>16500.00</td>\n",
       "      <td>2011</td>\n",
       "      <td>9</td>\n",
       "      <td>2011</td>\n",
       "      <td>11</td>\n",
       "    </tr>\n",
       "    <tr>\n",
       "      <th>211842</th>\n",
       "      <td>2079837811</td>\n",
       "      <td>Gender Equality DW Cosmetics, Pigmented Eyesha...</td>\n",
       "      <td>Art</td>\n",
       "      <td>Art</td>\n",
       "      <td>GBP</td>\n",
       "      <td>2017-07-20</td>\n",
       "      <td>15000.0</td>\n",
       "      <td>2017-06-10 02:49:49</td>\n",
       "      <td>25.0</td>\n",
       "      <td>failed</td>\n",
       "      <td>1</td>\n",
       "      <td>GB</td>\n",
       "      <td>32.39</td>\n",
       "      <td>32.48</td>\n",
       "      <td>19487.86</td>\n",
       "      <td>2017</td>\n",
       "      <td>6</td>\n",
       "      <td>2017</td>\n",
       "      <td>7</td>\n",
       "    </tr>\n",
       "  </tbody>\n",
       "</table>\n",
       "</div>"
      ],
      "text/plain": [
       "                ID                                               name  \\\n",
       "161280  1820351995  A Social State Music Video: A Zombie Trash the...   \n",
       "90958   1462248110  Arjuna Card Game - Conquer the Battle of Every...   \n",
       "165442  1841761543                                            SYSTOLE   \n",
       "256954   376631036               55mm D20 Monster Mega Countdown Dice   \n",
       "110217  1560110415                             Dreamcamp innovation I   \n",
       "288577   538412083                    Tipton's Niptons Nipple Pasties   \n",
       "209822   206937436             Bubble-T : the electric flying vehicle   \n",
       "40501    120601501  World's Best Travel Bag & Jacket (Sports, Mult...   \n",
       "61392   1312342328                                   Charlotte Sophia   \n",
       "211842  2079837811  Gender Equality DW Cosmetics, Pigmented Eyesha...   \n",
       "\n",
       "              category main_category currency   deadline        goal  \\\n",
       "161280    Music Videos  Film & Video      USD 2014-10-05      2000.0   \n",
       "90958    Playing Cards         Games      USD 2017-06-11      1200.0   \n",
       "165442     Video Games         Games      USD 2015-09-04     55000.0   \n",
       "256954  Tabletop Games         Games      USD 2017-10-21      1000.0   \n",
       "110217             Art           Art      NOK 2015-10-05  10000000.0   \n",
       "288577  Product Design        Design      USD 2015-02-14      3333.0   \n",
       "209822          Flight    Technology      EUR 2015-07-17      3000.0   \n",
       "40501   Product Design        Design      USD 2016-12-01      7500.0   \n",
       "61392          Theater       Theater      USD 2011-11-01     16500.0   \n",
       "211842             Art           Art      GBP 2017-07-20     15000.0   \n",
       "\n",
       "                  launched  pledged       state  backers country  usd pledged  \\\n",
       "161280 2014-09-05 21:22:31    520.0      failed       20      US       520.00   \n",
       "90958  2017-05-12 23:43:13    179.0      failed        8      US        26.00   \n",
       "165442 2015-08-06 01:27:39   1246.0      failed       33      US      1246.00   \n",
       "256954 2017-09-26 18:11:01   4467.0  successful      251      US       789.00   \n",
       "110217 2015-09-05 14:44:49    200.0      failed        2      NO        24.15   \n",
       "288577 2015-01-27 05:29:48    140.0      failed        6      US       140.00   \n",
       "209822 2015-06-17 21:44:27   2041.0      failed        3      FR      2300.49   \n",
       "40501  2016-11-10 14:01:08   6620.0    canceled       44      US      1173.00   \n",
       "61392  2011-09-23 00:00:12   2646.0      failed       21      US      2646.00   \n",
       "211842 2017-06-10 02:49:49     25.0      failed        1      GB        32.39   \n",
       "\n",
       "        usd_pledged_real  usd_goal_real  launched_year  launched_month  \\\n",
       "161280            520.00        2000.00           2014               9   \n",
       "90958             179.00        1200.00           2017               5   \n",
       "165442           1246.00       55000.00           2015               8   \n",
       "256954           4467.00        1000.00           2017               9   \n",
       "110217             24.73     1236414.89           2015               9   \n",
       "288577            140.00        3333.00           2015               1   \n",
       "209822           2222.44        3266.69           2015               6   \n",
       "40501            6620.00        7500.00           2016              11   \n",
       "61392            2646.00       16500.00           2011               9   \n",
       "211842             32.48       19487.86           2017               6   \n",
       "\n",
       "        deadline_year  deadline_month  \n",
       "161280           2014              10  \n",
       "90958            2017               6  \n",
       "165442           2015               9  \n",
       "256954           2017              10  \n",
       "110217           2015              10  \n",
       "288577           2015               2  \n",
       "209822           2015               7  \n",
       "40501            2016              12  \n",
       "61392            2011              11  \n",
       "211842           2017               7  "
      ]
     },
     "execution_count": 11,
     "metadata": {},
     "output_type": "execute_result"
    }
   ],
   "source": [
    "df.sample(10)"
   ]
  },
  {
   "cell_type": "code",
   "execution_count": null,
   "metadata": {},
   "outputs": [],
   "source": []
  },
  {
   "cell_type": "code",
   "execution_count": 12,
   "metadata": {},
   "outputs": [
    {
     "data": {
      "text/html": [
       "<div>\n",
       "<style scoped>\n",
       "    .dataframe tbody tr th:only-of-type {\n",
       "        vertical-align: middle;\n",
       "    }\n",
       "\n",
       "    .dataframe tbody tr th {\n",
       "        vertical-align: top;\n",
       "    }\n",
       "\n",
       "    .dataframe thead th {\n",
       "        text-align: right;\n",
       "    }\n",
       "</style>\n",
       "<table border=\"1\" class=\"dataframe\">\n",
       "  <thead>\n",
       "    <tr style=\"text-align: right;\">\n",
       "      <th></th>\n",
       "      <th>ID</th>\n",
       "      <th>name</th>\n",
       "      <th>category</th>\n",
       "      <th>main_category</th>\n",
       "      <th>currency</th>\n",
       "      <th>deadline</th>\n",
       "      <th>goal</th>\n",
       "      <th>launched</th>\n",
       "      <th>pledged</th>\n",
       "      <th>state</th>\n",
       "      <th>backers</th>\n",
       "      <th>country</th>\n",
       "      <th>usd pledged</th>\n",
       "      <th>usd_pledged_real</th>\n",
       "      <th>usd_goal_real</th>\n",
       "      <th>launched_year</th>\n",
       "      <th>launched_month</th>\n",
       "      <th>deadline_year</th>\n",
       "      <th>deadline_month</th>\n",
       "    </tr>\n",
       "  </thead>\n",
       "  <tbody>\n",
       "    <tr>\n",
       "      <th>0</th>\n",
       "      <td>1000002330</td>\n",
       "      <td>The Songs of Adelaide &amp; Abullah</td>\n",
       "      <td>Poetry</td>\n",
       "      <td>Publishing</td>\n",
       "      <td>GBP</td>\n",
       "      <td>2015-10-09</td>\n",
       "      <td>1000.0</td>\n",
       "      <td>2015-08-11 12:12:28</td>\n",
       "      <td>0.0</td>\n",
       "      <td>failed</td>\n",
       "      <td>0</td>\n",
       "      <td>GB</td>\n",
       "      <td>0.0</td>\n",
       "      <td>0.0</td>\n",
       "      <td>1533.95</td>\n",
       "      <td>2015</td>\n",
       "      <td>8</td>\n",
       "      <td>2015</td>\n",
       "      <td>10</td>\n",
       "    </tr>\n",
       "    <tr>\n",
       "      <th>1</th>\n",
       "      <td>1000003930</td>\n",
       "      <td>Greeting From Earth: ZGAC Arts Capsule For ET</td>\n",
       "      <td>Narrative Film</td>\n",
       "      <td>Film &amp; Video</td>\n",
       "      <td>USD</td>\n",
       "      <td>2017-11-01</td>\n",
       "      <td>30000.0</td>\n",
       "      <td>2017-09-02 04:43:57</td>\n",
       "      <td>2421.0</td>\n",
       "      <td>failed</td>\n",
       "      <td>15</td>\n",
       "      <td>US</td>\n",
       "      <td>100.0</td>\n",
       "      <td>2421.0</td>\n",
       "      <td>30000.00</td>\n",
       "      <td>2017</td>\n",
       "      <td>9</td>\n",
       "      <td>2017</td>\n",
       "      <td>11</td>\n",
       "    </tr>\n",
       "    <tr>\n",
       "      <th>2</th>\n",
       "      <td>1000004038</td>\n",
       "      <td>Where is Hank?</td>\n",
       "      <td>Narrative Film</td>\n",
       "      <td>Film &amp; Video</td>\n",
       "      <td>USD</td>\n",
       "      <td>2013-02-26</td>\n",
       "      <td>45000.0</td>\n",
       "      <td>2013-01-12 00:20:50</td>\n",
       "      <td>220.0</td>\n",
       "      <td>failed</td>\n",
       "      <td>3</td>\n",
       "      <td>US</td>\n",
       "      <td>220.0</td>\n",
       "      <td>220.0</td>\n",
       "      <td>45000.00</td>\n",
       "      <td>2013</td>\n",
       "      <td>1</td>\n",
       "      <td>2013</td>\n",
       "      <td>2</td>\n",
       "    </tr>\n",
       "    <tr>\n",
       "      <th>3</th>\n",
       "      <td>1000007540</td>\n",
       "      <td>ToshiCapital Rekordz Needs Help to Complete Album</td>\n",
       "      <td>Music</td>\n",
       "      <td>Music</td>\n",
       "      <td>USD</td>\n",
       "      <td>2012-04-16</td>\n",
       "      <td>5000.0</td>\n",
       "      <td>2012-03-17 03:24:11</td>\n",
       "      <td>1.0</td>\n",
       "      <td>failed</td>\n",
       "      <td>1</td>\n",
       "      <td>US</td>\n",
       "      <td>1.0</td>\n",
       "      <td>1.0</td>\n",
       "      <td>5000.00</td>\n",
       "      <td>2012</td>\n",
       "      <td>3</td>\n",
       "      <td>2012</td>\n",
       "      <td>4</td>\n",
       "    </tr>\n",
       "    <tr>\n",
       "      <th>4</th>\n",
       "      <td>1000011046</td>\n",
       "      <td>Community Film Project: The Art of Neighborhoo...</td>\n",
       "      <td>Film &amp; Video</td>\n",
       "      <td>Film &amp; Video</td>\n",
       "      <td>USD</td>\n",
       "      <td>2015-08-29</td>\n",
       "      <td>19500.0</td>\n",
       "      <td>2015-07-04 08:35:03</td>\n",
       "      <td>1283.0</td>\n",
       "      <td>canceled</td>\n",
       "      <td>14</td>\n",
       "      <td>US</td>\n",
       "      <td>1283.0</td>\n",
       "      <td>1283.0</td>\n",
       "      <td>19500.00</td>\n",
       "      <td>2015</td>\n",
       "      <td>7</td>\n",
       "      <td>2015</td>\n",
       "      <td>8</td>\n",
       "    </tr>\n",
       "  </tbody>\n",
       "</table>\n",
       "</div>"
      ],
      "text/plain": [
       "           ID                                               name  \\\n",
       "0  1000002330                    The Songs of Adelaide & Abullah   \n",
       "1  1000003930      Greeting From Earth: ZGAC Arts Capsule For ET   \n",
       "2  1000004038                                     Where is Hank?   \n",
       "3  1000007540  ToshiCapital Rekordz Needs Help to Complete Album   \n",
       "4  1000011046  Community Film Project: The Art of Neighborhoo...   \n",
       "\n",
       "         category main_category currency   deadline     goal  \\\n",
       "0          Poetry    Publishing      GBP 2015-10-09   1000.0   \n",
       "1  Narrative Film  Film & Video      USD 2017-11-01  30000.0   \n",
       "2  Narrative Film  Film & Video      USD 2013-02-26  45000.0   \n",
       "3           Music         Music      USD 2012-04-16   5000.0   \n",
       "4    Film & Video  Film & Video      USD 2015-08-29  19500.0   \n",
       "\n",
       "             launched  pledged     state  backers country  usd pledged  \\\n",
       "0 2015-08-11 12:12:28      0.0    failed        0      GB          0.0   \n",
       "1 2017-09-02 04:43:57   2421.0    failed       15      US        100.0   \n",
       "2 2013-01-12 00:20:50    220.0    failed        3      US        220.0   \n",
       "3 2012-03-17 03:24:11      1.0    failed        1      US          1.0   \n",
       "4 2015-07-04 08:35:03   1283.0  canceled       14      US       1283.0   \n",
       "\n",
       "   usd_pledged_real  usd_goal_real  launched_year  launched_month  \\\n",
       "0               0.0        1533.95           2015               8   \n",
       "1            2421.0       30000.00           2017               9   \n",
       "2             220.0       45000.00           2013               1   \n",
       "3               1.0        5000.00           2012               3   \n",
       "4            1283.0       19500.00           2015               7   \n",
       "\n",
       "   deadline_year  deadline_month  \n",
       "0           2015              10  \n",
       "1           2017              11  \n",
       "2           2013               2  \n",
       "3           2012               4  \n",
       "4           2015               8  "
      ]
     },
     "execution_count": 12,
     "metadata": {},
     "output_type": "execute_result"
    }
   ],
   "source": [
    "df.head()"
   ]
  },
  {
   "cell_type": "code",
   "execution_count": 13,
   "metadata": {},
   "outputs": [],
   "source": [
    "def data_describe_num(col):\n",
    "    print('Count       :', len(df[col]))\n",
    "    print('Mean        :', np.mean(df[col]))\n",
    "    print('Std         :', np.std(df[col]))\n",
    "    print('Min         :', np.min(df[col]))\n",
    "    print('Q1          :', np.percentile(df[col], 25))\n",
    "    print('Median(Q2)  :', np.median(df[col]))\n",
    "    print('Q3          :', np.percentile(df[col], 75))\n",
    "    print('Max         :', np.max(df[col]))\n",
    "    print('Mode        :', stats.mode(df[col]))\n",
    "    "
   ]
  },
  {
   "cell_type": "code",
   "execution_count": 14,
   "metadata": {},
   "outputs": [],
   "source": [
    "def data_describe_obj(col):\n",
    "    print('Unique      :', df[col].nunique()) \n",
    "    print('Mode        :', stats.mode(df[col]))"
   ]
  },
  {
   "cell_type": "code",
   "execution_count": 15,
   "metadata": {},
   "outputs": [
    {
     "name": "stdout",
     "output_type": "stream",
     "text": [
      "Unique      : 159\n",
      "Mode        : ModeResult(mode=array(['Product Design'], dtype=object), count=array([22310]))\n"
     ]
    }
   ],
   "source": [
    "data_describe_obj('category')"
   ]
  },
  {
   "cell_type": "code",
   "execution_count": 16,
   "metadata": {},
   "outputs": [
    {
     "data": {
      "text/plain": [
       "Product Design     22310\n",
       "Documentary        16138\n",
       "Tabletop Games     14178\n",
       "Music              13340\n",
       "Shorts             12357\n",
       "                   ...  \n",
       "Residencies           69\n",
       "Letterpress           49\n",
       "Chiptune              35\n",
       "Literary Spaces       27\n",
       "Taxidermy             13\n",
       "Name: category, Length: 159, dtype: int64"
      ]
     },
     "execution_count": 16,
     "metadata": {},
     "output_type": "execute_result"
    }
   ],
   "source": [
    "df['category'].value_counts()"
   ]
  },
  {
   "cell_type": "code",
   "execution_count": 17,
   "metadata": {},
   "outputs": [
    {
     "name": "stdout",
     "output_type": "stream",
     "text": [
      "Unique      : 15\n",
      "Mode        : ModeResult(mode=array(['Film & Video'], dtype=object), count=array([62696]))\n"
     ]
    }
   ],
   "source": [
    "data_describe_obj('main_category')"
   ]
  },
  {
   "cell_type": "code",
   "execution_count": 18,
   "metadata": {},
   "outputs": [
    {
     "name": "stdout",
     "output_type": "stream",
     "text": [
      "Count       : 374860\n",
      "Mean        : 9120.898548951884\n",
      "Std         : 91319.57262540108\n",
      "Min         : 0.0\n",
      "Q1          : 31.0\n",
      "Median(Q2)  : 624.495\n",
      "Q3          : 4050.895\n",
      "Max         : 20338986.27\n",
      "Mode        : ModeResult(mode=array([0.]), count=array([51808]))\n"
     ]
    }
   ],
   "source": [
    "data_describe_num('usd_pledged_real')"
   ]
  },
  {
   "cell_type": "code",
   "execution_count": 19,
   "metadata": {},
   "outputs": [
    {
     "data": {
      "text/plain": [
       "<seaborn.axisgrid.FacetGrid at 0x1da59217cd0>"
      ]
     },
     "execution_count": 19,
     "metadata": {},
     "output_type": "execute_result"
    },
    {
     "data": {
      "image/png": "[encoded data removed]",
      "text/plain": [
       "<Figure size 360x360 with 1 Axes>"
      ]
     },
     "metadata": {
      "needs_background": "light"
     },
     "output_type": "display_data"
    }
   ],
   "source": [
    "sns.displot(df['usd_pledged_real'],kde=False,bins=200)"
   ]
  },
  {
   "cell_type": "code",
   "execution_count": 20,
   "metadata": {},
   "outputs": [
    {
     "data": {
      "text/plain": [
       "failed        197611\n",
       "successful    133851\n",
       "canceled       38757\n",
       "live            2798\n",
       "suspended       1843\n",
       "Name: state, dtype: int64"
      ]
     },
     "execution_count": 20,
     "metadata": {},
     "output_type": "execute_result"
    }
   ],
   "source": [
    "df['state'].value_counts()"
   ]
  },
  {
   "cell_type": "code",
   "execution_count": 21,
   "metadata": {},
   "outputs": [
    {
     "data": {
      "text/plain": [
       "<AxesSubplot:xlabel='state', ylabel='count'>"
      ]
     },
     "execution_count": 21,
     "metadata": {},
     "output_type": "execute_result"
    },
    {
     "data": {
      "image/png": "[encoded data removed]",
      "text/plain": [
       "<Figure size 864x576 with 1 Axes>"
      ]
     },
     "metadata": {
      "needs_background": "light"
     },
     "output_type": "display_data"
    }
   ],
   "source": [
    "sns.countplot(data=df,x='state')"
   ]
  },
  {
   "cell_type": "code",
   "execution_count": 22,
   "metadata": {},
   "outputs": [
    {
     "data": {
      "text/plain": [
       "22"
      ]
     },
     "execution_count": 22,
     "metadata": {},
     "output_type": "execute_result"
    }
   ],
   "source": [
    "df['country'].nunique()"
   ]
  },
  {
   "cell_type": "code",
   "execution_count": 23,
   "metadata": {},
   "outputs": [
    {
     "data": {
      "text/plain": [
       "<AxesSubplot:xlabel='country', ylabel='count'>"
      ]
     },
     "execution_count": 23,
     "metadata": {},
     "output_type": "execute_result"
    },
    {
     "data": {
      "image/png": "[encoded data removed]",
      "text/plain": [
       "<Figure size 864x576 with 1 Axes>"
      ]
     },
     "metadata": {
      "needs_background": "light"
     },
     "output_type": "display_data"
    }
   ],
   "source": [
    "sns.countplot(data=df,x='country')"
   ]
  },
  {
   "cell_type": "code",
   "execution_count": 24,
   "metadata": {},
   "outputs": [
    {
     "data": {
      "text/plain": [
       "<AxesSubplot:xlabel='launched_year', ylabel='count'>"
      ]
     },
     "execution_count": 24,
     "metadata": {},
     "output_type": "execute_result"
    },
    {
     "data": {
      "image/png": "[encoded data removed]",
      "text/plain": [
       "<Figure size 864x576 with 1 Axes>"
      ]
     },
     "metadata": {
      "needs_background": "light"
     },
     "output_type": "display_data"
    }
   ],
   "source": [
    "sns.countplot(data=df,x='launched_year')"
   ]
  },
  {
   "cell_type": "code",
   "execution_count": 25,
   "metadata": {},
   "outputs": [
    {
     "data": {
      "text/plain": [
       "<AxesSubplot:xlabel='launched_month', ylabel='count'>"
      ]
     },
     "execution_count": 25,
     "metadata": {},
     "output_type": "execute_result"
    },
    {
     "data": {
      "image/png": "[encoded data removed]",
      "text/plain": [
       "<Figure size 864x576 with 1 Axes>"
      ]
     },
     "metadata": {
      "needs_background": "light"
     },
     "output_type": "display_data"
    }
   ],
   "source": [
    "sns.countplot(data=df,x='launched_month')"
   ]
  },
  {
   "cell_type": "code",
   "execution_count": 26,
   "metadata": {},
   "outputs": [
    {
     "data": {
      "text/plain": [
       "<AxesSubplot:xlabel='deadline_year', ylabel='count'>"
      ]
     },
     "execution_count": 26,
     "metadata": {},
     "output_type": "execute_result"
    },
    {
     "data": {
      "image/png": "[encoded data removed]",
      "text/plain": [
       "<Figure size 864x576 with 1 Axes>"
      ]
     },
     "metadata": {
      "needs_background": "light"
     },
     "output_type": "display_data"
    }
   ],
   "source": [
    "sns.countplot(data=df,x='deadline_year')"
   ]
  },
  {
   "cell_type": "code",
   "execution_count": 27,
   "metadata": {},
   "outputs": [
    {
     "data": {
      "text/plain": [
       "0.0      51808\n",
       "1.0       6557\n",
       "10.0      3605\n",
       "25.0      3423\n",
       "50.0      2915\n",
       "5.0       2564\n",
       "100.0     2436\n",
       "20.0      2340\n",
       "2.0       1676\n",
       "30.0      1642\n",
       "Name: usd_pledged_real, dtype: int64"
      ]
     },
     "execution_count": 27,
     "metadata": {},
     "output_type": "execute_result"
    }
   ],
   "source": [
    "df['usd_pledged_real'].value_counts().head(10)"
   ]
  },
  {
   "cell_type": "code",
   "execution_count": 28,
   "metadata": {},
   "outputs": [
    {
     "data": {
      "text/plain": [
       "category\n",
       "Camera Equipment     81362.319880\n",
       "3D Printing          66399.119575\n",
       "Sound                61878.248445\n",
       "Wearables            56284.998240\n",
       "Fabrication Tools    48192.981440\n",
       "Hardware             42535.324902\n",
       "Gaming Hardware      40089.047780\n",
       "Tabletop Games       32707.057014\n",
       "Robots               32612.975594\n",
       "Space Exploration    30611.282012\n",
       "Gadgets              30519.855868\n",
       "Flight               28621.467817\n",
       "Product Design       28551.397732\n",
       "DIY Electronics      22351.087062\n",
       "Typography           21263.774907\n",
       "Technology           20519.187205\n",
       "Video Games          18281.700242\n",
       "Chiptune             17691.527143\n",
       "Design               17522.726502\n",
       "Footwear             16291.717508\n",
       "Name: usd_pledged_real, dtype: float64"
      ]
     },
     "execution_count": 28,
     "metadata": {},
     "output_type": "execute_result"
    }
   ],
   "source": [
    "df.groupby('category')['usd_pledged_real'].mean().sort_values(ascending=False).head(20)"
   ]
  },
  {
   "cell_type": "code",
   "execution_count": 29,
   "metadata": {},
   "outputs": [
    {
     "data": {
      "text/plain": [
       "category\n",
       "Product Design      6.369817e+08\n",
       "Tabletop Games      4.637207e+08\n",
       "Video Games         2.162360e+08\n",
       "Hardware            1.557644e+08\n",
       "Technology          1.421364e+08\n",
       "Documentary         1.389153e+08\n",
       "Gadgets             9.049137e+07\n",
       "Design              7.357793e+07\n",
       "Food                7.069171e+07\n",
       "Wearables           6.939940e+07\n",
       "Music               6.349534e+07\n",
       "Narrative Film      5.458915e+07\n",
       "Fashion             4.678446e+07\n",
       "Film & Video        4.540003e+07\n",
       "3D Printing         4.528420e+07\n",
       "Shorts              4.154866e+07\n",
       "Sound               4.139655e+07\n",
       "Apparel             3.914980e+07\n",
       "Camera Equipment    3.384673e+07\n",
       "Comics              3.265802e+07\n",
       "Name: usd_pledged_real, dtype: float64"
      ]
     },
     "execution_count": 29,
     "metadata": {},
     "output_type": "execute_result"
    }
   ],
   "source": [
    "df.groupby('category')['usd_pledged_real'].sum().sort_values(ascending=False).head(20)"
   ]
  },
  {
   "cell_type": "code",
   "execution_count": 30,
   "metadata": {},
   "outputs": [
    {
     "data": {
      "text/plain": [
       "<AxesSubplot:xlabel='category'>"
      ]
     },
     "execution_count": 30,
     "metadata": {},
     "output_type": "execute_result"
    },
    {
     "data": {
      "image/png": "[encoded data removed]",
      "text/plain": [
       "<Figure size 864x576 with 1 Axes>"
      ]
     },
     "metadata": {
      "needs_background": "light"
     },
     "output_type": "display_data"
    }
   ],
   "source": [
    "df.groupby('category')['usd_pledged_real'].mean().sort_values(ascending=False).head(10).plot.bar()"
   ]
  },
  {
   "cell_type": "code",
   "execution_count": 31,
   "metadata": {},
   "outputs": [
    {
     "data": {
      "text/plain": [
       "main_category\n",
       "Design          24419.827975\n",
       "Technology      21070.369202\n",
       "Games           21043.934662\n",
       "Comics           6610.443828\n",
       "Film & Video     6218.197467\n",
       "Fashion          5712.865119\n",
       "Food             5114.282154\n",
       "Theater          4006.045016\n",
       "Music            3911.548999\n",
       "Photography      3572.220982\n",
       "Dance            3453.809894\n",
       "Publishing       3390.641286\n",
       "Art              3221.093567\n",
       "Journalism       2615.789125\n",
       "Crafts           1632.907282\n",
       "Name: usd_pledged_real, dtype: float64"
      ]
     },
     "execution_count": 31,
     "metadata": {},
     "output_type": "execute_result"
    }
   ],
   "source": [
    "df.groupby('main_category')['usd_pledged_real'].mean().sort_values(ascending=False)"
   ]
  },
  {
   "cell_type": "code",
   "execution_count": 32,
   "metadata": {},
   "outputs": [
    {
     "data": {
      "text/plain": [
       "<AxesSubplot:xlabel='main_category'>"
      ]
     },
     "execution_count": 32,
     "metadata": {},
     "output_type": "execute_result"
    },
    {
     "data": {
      "image/png": "[encoded data removed]",
      "text/plain": [
       "<Figure size 864x576 with 1 Axes>"
      ]
     },
     "metadata": {
      "needs_background": "light"
     },
     "output_type": "display_data"
    }
   ],
   "source": [
    "df.groupby('main_category')['usd_pledged_real'].mean().sort_values(ascending=False).plot.bar()"
   ]
  },
  {
   "cell_type": "code",
   "execution_count": 33,
   "metadata": {},
   "outputs": [
    {
     "data": {
      "text/plain": [
       "main_category\n",
       "Games           7.412726e+08\n",
       "Design          7.342065e+08\n",
       "Technology      6.860934e+08\n",
       "Film & Video    3.898561e+08\n",
       "Music           1.937390e+08\n",
       "Publishing      1.335201e+08\n",
       "Fashion         1.303219e+08\n",
       "Food            1.258062e+08\n",
       "Art             9.068023e+07\n",
       "Comics          7.151839e+07\n",
       "Theater         4.371396e+07\n",
       "Photography     3.850140e+07\n",
       "Crafts          1.438428e+07\n",
       "Dance           1.301050e+07\n",
       "Journalism      1.243546e+07\n",
       "Name: usd_pledged_real, dtype: float64"
      ]
     },
     "execution_count": 33,
     "metadata": {},
     "output_type": "execute_result"
    }
   ],
   "source": [
    "df.groupby('main_category')['usd_pledged_real'].sum().sort_values(ascending=False)"
   ]
  },
  {
   "cell_type": "code",
   "execution_count": 41,
   "metadata": {},
   "outputs": [
    {
     "data": {
      "text/plain": [
       "<AxesSubplot:xlabel='main_category'>"
      ]
     },
     "execution_count": 41,
     "metadata": {},
     "output_type": "execute_result"
    },
    {
     "data": {
      "image/png": "[encoded data removed]",
      "text/plain": [
       "<Figure size 864x576 with 1 Axes>"
      ]
     },
     "metadata": {
      "needs_background": "light"
     },
     "output_type": "display_data"
    }
   ],
   "source": [
    "df.groupby('main_category')['usd_pledged_real'].sum().sort_values(ascending=False).plot.bar()"
   ]
  },
  {
   "cell_type": "code",
   "execution_count": 43,
   "metadata": {},
   "outputs": [
    {
     "data": {
      "text/plain": [
       "<AxesSubplot:xlabel='main_category', ylabel='usd_pledged_real'>"
      ]
     },
     "execution_count": 43,
     "metadata": {},
     "output_type": "execute_result"
    },
    {
     "data": {
      "image/png": "[encoded data removed]",
      "text/plain": [
       "<Figure size 864x576 with 1 Axes>"
      ]
     },
     "metadata": {
      "needs_background": "light"
     },
     "output_type": "display_data"
    }
   ],
   "source": [
    "sns.barplot(x='main_category',y='usd_pledged_real',data=df)"
   ]
  },
  {
   "cell_type": "code",
   "execution_count": 44,
   "metadata": {},
   "outputs": [
    {
     "data": {
      "text/plain": [
       "<AxesSubplot:xlabel='country', ylabel='usd_pledged_real'>"
      ]
     },
     "execution_count": 44,
     "metadata": {},
     "output_type": "execute_result"
    },
    {
     "data": {
      "image/png": "[encoded data removed]",
      "text/plain": [
       "<Figure size 864x576 with 1 Axes>"
      ]
     },
     "metadata": {
      "needs_background": "light"
     },
     "output_type": "display_data"
    }
   ],
   "source": [
    "sns.barplot(x='country',y='usd_pledged_real',data=df)"
   ]
  },
  {
   "cell_type": "code",
   "execution_count": 36,
   "metadata": {},
   "outputs": [
    {
     "data": {
      "text/plain": [
       "country\n",
       "CH    17155.217096\n",
       "HK    16228.940032\n",
       "AT    16190.600603\n",
       "FR    11690.203409\n",
       "SG    10536.136523\n",
       "NL    10197.038870\n",
       "US     9670.291095\n",
       "DE     9536.387924\n",
       "SE     7635.630569\n",
       "LU     7559.284839\n",
       "GB     7026.433109\n",
       "DK     6813.352713\n",
       "BE     6777.240827\n",
       "CA     6220.748131\n",
       "AU     5962.128806\n",
       "IT     5693.546668\n",
       "ES     5688.775738\n",
       "NZ     5405.330124\n",
       "IE     5163.085709\n",
       "NO     3769.410565\n",
       "JP     2897.210250\n",
       "MX     1387.002568\n",
       "Name: usd_pledged_real, dtype: float64"
      ]
     },
     "execution_count": 36,
     "metadata": {},
     "output_type": "execute_result"
    }
   ],
   "source": [
    "df.groupby('country')['usd_pledged_real'].mean().sort_values(ascending=False)"
   ]
  },
  {
   "cell_type": "code",
   "execution_count": 56,
   "metadata": {},
   "outputs": [
    {
     "data": {
      "text/plain": [
       "<AxesSubplot:xlabel='country', ylabel='usd_pledged_real'>"
      ]
     },
     "execution_count": 56,
     "metadata": {},
     "output_type": "execute_result"
    },
    {
     "data": {
      "image/png": "[encoded data removed]",
      "text/plain": [
       "<Figure size 864x576 with 1 Axes>"
      ]
     },
     "metadata": {
      "needs_background": "light"
     },
     "output_type": "display_data"
    }
   ],
   "source": [
    "df.groupby('country')['usd_pledged_real'].mean().sort_values(ascending=False).plot.bar(ylabel='usd_pledged_real')"
   ]
  },
  {
   "cell_type": "code",
   "execution_count": 38,
   "metadata": {},
   "outputs": [
    {
     "data": {
      "text/plain": [
       "country\n",
       "US    2.829759e+09\n",
       "GB    2.365870e+08\n",
       "CA    9.179336e+07\n",
       "AU    4.673713e+07\n",
       "DE    3.977627e+07\n",
       "FR    3.435751e+07\n",
       "NL    2.924511e+07\n",
       "IT    1.638603e+07\n",
       "SE    1.341580e+07\n",
       "CH    1.305512e+07\n",
       "ES    1.294765e+07\n",
       "HK    1.002948e+07\n",
       "AT    9.665789e+06\n",
       "NZ    7.821513e+06\n",
       "DK    7.583262e+06\n",
       "SG    5.847556e+06\n",
       "IE    4.187263e+06\n",
       "BE    4.181558e+06\n",
       "NO    2.668743e+06\n",
       "MX    2.430029e+06\n",
       "LU    4.686757e+05\n",
       "JP    1.158884e+05\n",
       "Name: usd_pledged_real, dtype: float64"
      ]
     },
     "execution_count": 38,
     "metadata": {},
     "output_type": "execute_result"
    }
   ],
   "source": [
    "df.groupby('country')['usd_pledged_real'].sum().sort_values(ascending=False)"
   ]
  },
  {
   "cell_type": "code",
   "execution_count": 47,
   "metadata": {},
   "outputs": [
    {
     "data": {
      "text/plain": [
       "<AxesSubplot:xlabel='country'>"
      ]
     },
     "execution_count": 47,
     "metadata": {},
     "output_type": "execute_result"
    },
    {
     "data": {
      "image/png": "[encoded data removed]",
      "text/plain": [
       "<Figure size 864x576 with 1 Axes>"
      ]
     },
     "metadata": {
      "needs_background": "light"
     },
     "output_type": "display_data"
    }
   ],
   "source": [
    "df.groupby('country')['usd_pledged_real'].sum().sort_values(ascending=False).plot.bar()"
   ]
  },
  {
   "cell_type": "code",
   "execution_count": 39,
   "metadata": {},
   "outputs": [
    {
     "data": {
      "text/plain": [
       "launched_month\n",
       "5     3.376397e+08\n",
       "11    3.295122e+08\n",
       "10    3.291370e+08\n",
       "7     3.230498e+08\n",
       "9     3.208969e+08\n",
       "3     3.194561e+08\n",
       "6     2.991560e+08\n",
       "4     2.953899e+08\n",
       "2     2.683136e+08\n",
       "8     2.498201e+08\n",
       "1     2.100283e+08\n",
       "12    1.366602e+08\n",
       "Name: usd_pledged_real, dtype: float64"
      ]
     },
     "execution_count": 39,
     "metadata": {},
     "output_type": "execute_result"
    }
   ],
   "source": [
    "\n",
    "df.groupby('launched_month')['usd_pledged_real'].sum().sort_values(ascending=False)"
   ]
  },
  {
   "cell_type": "code",
   "execution_count": 46,
   "metadata": {},
   "outputs": [
    {
     "data": {
      "text/plain": [
       "<AxesSubplot:xlabel='launched_month'>"
      ]
     },
     "execution_count": 46,
     "metadata": {},
     "output_type": "execute_result"
    },
    {
     "data": {
      "image/png": "[encoded data removed]",
      "text/plain": [
       "<Figure size 864x576 with 1 Axes>"
      ]
     },
     "metadata": {
      "needs_background": "light"
     },
     "output_type": "display_data"
    }
   ],
   "source": [
    "df.groupby('launched_month')['usd_pledged_real'].sum().plot.bar()"
   ]
  },
  {
   "cell_type": "code",
   "execution_count": 48,
   "metadata": {},
   "outputs": [
    {
     "data": {
      "text/html": [
       "<div>\n",
       "<style scoped>\n",
       "    .dataframe tbody tr th:only-of-type {\n",
       "        vertical-align: middle;\n",
       "    }\n",
       "\n",
       "    .dataframe tbody tr th {\n",
       "        vertical-align: top;\n",
       "    }\n",
       "\n",
       "    .dataframe thead th {\n",
       "        text-align: right;\n",
       "    }\n",
       "</style>\n",
       "<table border=\"1\" class=\"dataframe\">\n",
       "  <thead>\n",
       "    <tr style=\"text-align: right;\">\n",
       "      <th></th>\n",
       "      <th>ID</th>\n",
       "      <th>name</th>\n",
       "      <th>category</th>\n",
       "      <th>main_category</th>\n",
       "      <th>currency</th>\n",
       "      <th>deadline</th>\n",
       "      <th>goal</th>\n",
       "      <th>launched</th>\n",
       "      <th>pledged</th>\n",
       "      <th>state</th>\n",
       "      <th>backers</th>\n",
       "      <th>country</th>\n",
       "      <th>usd pledged</th>\n",
       "      <th>usd_pledged_real</th>\n",
       "      <th>usd_goal_real</th>\n",
       "      <th>launched_year</th>\n",
       "      <th>launched_month</th>\n",
       "      <th>deadline_year</th>\n",
       "      <th>deadline_month</th>\n",
       "    </tr>\n",
       "  </thead>\n",
       "  <tbody>\n",
       "    <tr>\n",
       "      <th>0</th>\n",
       "      <td>1000002330</td>\n",
       "      <td>The Songs of Adelaide &amp; Abullah</td>\n",
       "      <td>Poetry</td>\n",
       "      <td>Publishing</td>\n",
       "      <td>GBP</td>\n",
       "      <td>2015-10-09</td>\n",
       "      <td>1000.0</td>\n",
       "      <td>2015-08-11 12:12:28</td>\n",
       "      <td>0.0</td>\n",
       "      <td>failed</td>\n",
       "      <td>0</td>\n",
       "      <td>GB</td>\n",
       "      <td>0.0</td>\n",
       "      <td>0.0</td>\n",
       "      <td>1533.95</td>\n",
       "      <td>2015</td>\n",
       "      <td>8</td>\n",
       "      <td>2015</td>\n",
       "      <td>10</td>\n",
       "    </tr>\n",
       "    <tr>\n",
       "      <th>1</th>\n",
       "      <td>1000003930</td>\n",
       "      <td>Greeting From Earth: ZGAC Arts Capsule For ET</td>\n",
       "      <td>Narrative Film</td>\n",
       "      <td>Film &amp; Video</td>\n",
       "      <td>USD</td>\n",
       "      <td>2017-11-01</td>\n",
       "      <td>30000.0</td>\n",
       "      <td>2017-09-02 04:43:57</td>\n",
       "      <td>2421.0</td>\n",
       "      <td>failed</td>\n",
       "      <td>15</td>\n",
       "      <td>US</td>\n",
       "      <td>100.0</td>\n",
       "      <td>2421.0</td>\n",
       "      <td>30000.00</td>\n",
       "      <td>2017</td>\n",
       "      <td>9</td>\n",
       "      <td>2017</td>\n",
       "      <td>11</td>\n",
       "    </tr>\n",
       "    <tr>\n",
       "      <th>2</th>\n",
       "      <td>1000004038</td>\n",
       "      <td>Where is Hank?</td>\n",
       "      <td>Narrative Film</td>\n",
       "      <td>Film &amp; Video</td>\n",
       "      <td>USD</td>\n",
       "      <td>2013-02-26</td>\n",
       "      <td>45000.0</td>\n",
       "      <td>2013-01-12 00:20:50</td>\n",
       "      <td>220.0</td>\n",
       "      <td>failed</td>\n",
       "      <td>3</td>\n",
       "      <td>US</td>\n",
       "      <td>220.0</td>\n",
       "      <td>220.0</td>\n",
       "      <td>45000.00</td>\n",
       "      <td>2013</td>\n",
       "      <td>1</td>\n",
       "      <td>2013</td>\n",
       "      <td>2</td>\n",
       "    </tr>\n",
       "    <tr>\n",
       "      <th>3</th>\n",
       "      <td>1000007540</td>\n",
       "      <td>ToshiCapital Rekordz Needs Help to Complete Album</td>\n",
       "      <td>Music</td>\n",
       "      <td>Music</td>\n",
       "      <td>USD</td>\n",
       "      <td>2012-04-16</td>\n",
       "      <td>5000.0</td>\n",
       "      <td>2012-03-17 03:24:11</td>\n",
       "      <td>1.0</td>\n",
       "      <td>failed</td>\n",
       "      <td>1</td>\n",
       "      <td>US</td>\n",
       "      <td>1.0</td>\n",
       "      <td>1.0</td>\n",
       "      <td>5000.00</td>\n",
       "      <td>2012</td>\n",
       "      <td>3</td>\n",
       "      <td>2012</td>\n",
       "      <td>4</td>\n",
       "    </tr>\n",
       "    <tr>\n",
       "      <th>4</th>\n",
       "      <td>1000011046</td>\n",
       "      <td>Community Film Project: The Art of Neighborhoo...</td>\n",
       "      <td>Film &amp; Video</td>\n",
       "      <td>Film &amp; Video</td>\n",
       "      <td>USD</td>\n",
       "      <td>2015-08-29</td>\n",
       "      <td>19500.0</td>\n",
       "      <td>2015-07-04 08:35:03</td>\n",
       "      <td>1283.0</td>\n",
       "      <td>canceled</td>\n",
       "      <td>14</td>\n",
       "      <td>US</td>\n",
       "      <td>1283.0</td>\n",
       "      <td>1283.0</td>\n",
       "      <td>19500.00</td>\n",
       "      <td>2015</td>\n",
       "      <td>7</td>\n",
       "      <td>2015</td>\n",
       "      <td>8</td>\n",
       "    </tr>\n",
       "  </tbody>\n",
       "</table>\n",
       "</div>"
      ],
      "text/plain": [
       "           ID                                               name  \\\n",
       "0  1000002330                    The Songs of Adelaide & Abullah   \n",
       "1  1000003930      Greeting From Earth: ZGAC Arts Capsule For ET   \n",
       "2  1000004038                                     Where is Hank?   \n",
       "3  1000007540  ToshiCapital Rekordz Needs Help to Complete Album   \n",
       "4  1000011046  Community Film Project: The Art of Neighborhoo...   \n",
       "\n",
       "         category main_category currency   deadline     goal  \\\n",
       "0          Poetry    Publishing      GBP 2015-10-09   1000.0   \n",
       "1  Narrative Film  Film & Video      USD 2017-11-01  30000.0   \n",
       "2  Narrative Film  Film & Video      USD 2013-02-26  45000.0   \n",
       "3           Music         Music      USD 2012-04-16   5000.0   \n",
       "4    Film & Video  Film & Video      USD 2015-08-29  19500.0   \n",
       "\n",
       "             launched  pledged     state  backers country  usd pledged  \\\n",
       "0 2015-08-11 12:12:28      0.0    failed        0      GB          0.0   \n",
       "1 2017-09-02 04:43:57   2421.0    failed       15      US        100.0   \n",
       "2 2013-01-12 00:20:50    220.0    failed        3      US        220.0   \n",
       "3 2012-03-17 03:24:11      1.0    failed        1      US          1.0   \n",
       "4 2015-07-04 08:35:03   1283.0  canceled       14      US       1283.0   \n",
       "\n",
       "   usd_pledged_real  usd_goal_real  launched_year  launched_month  \\\n",
       "0               0.0        1533.95           2015               8   \n",
       "1            2421.0       30000.00           2017               9   \n",
       "2             220.0       45000.00           2013               1   \n",
       "3               1.0        5000.00           2012               3   \n",
       "4            1283.0       19500.00           2015               7   \n",
       "\n",
       "   deadline_year  deadline_month  \n",
       "0           2015              10  \n",
       "1           2017              11  \n",
       "2           2013               2  \n",
       "3           2012               4  \n",
       "4           2015               8  "
      ]
     },
     "execution_count": 48,
     "metadata": {},
     "output_type": "execute_result"
    }
   ],
   "source": [
    "df.head()"
   ]
  },
  {
   "cell_type": "code",
   "execution_count": 55,
   "metadata": {},
   "outputs": [
    {
     "data": {
      "text/plain": [
       "<AxesSubplot:xlabel='main_category', ylabel='count'>"
      ]
     },
     "execution_count": 55,
     "metadata": {},
     "output_type": "execute_result"
    },
    {
     "data": {
      "image/png": "[encoded data removed]",
      "text/plain": [
       "<Figure size 1440x1008 with 1 Axes>"
      ]
     },
     "metadata": {
      "needs_background": "light"
     },
     "output_type": "display_data"
    }
   ],
   "source": [
    "plt.figure(figsize=(20,14))\n",
    "sns.countplot(data=df,x='main_category',hue='state')"
   ]
  },
  {
   "cell_type": "code",
   "execution_count": 58,
   "metadata": {},
   "outputs": [
    {
     "data": {
      "text/plain": [
       "<AxesSubplot:xlabel='main_category', ylabel='count'>"
      ]
     },
     "execution_count": 58,
     "metadata": {},
     "output_type": "execute_result"
    },
    {
     "data": {
      "image/png": "[encoded data removed]",
      "text/plain": [
       "<Figure size 1440x1008 with 1 Axes>"
      ]
     },
     "metadata": {
      "needs_background": "light"
     },
     "output_type": "display_data"
    }
   ],
   "source": [
    "plt.figure(figsize=(20,14))\n",
    "sns.countplot(x='main_category',data=df.loc[df['state'] == 'failed'],hue='state')"
   ]
  },
  {
   "cell_type": "code",
   "execution_count": 59,
   "metadata": {},
   "outputs": [
    {
     "data": {
      "text/plain": [
       "<AxesSubplot:xlabel='main_category', ylabel='count'>"
      ]
     },
     "execution_count": 59,
     "metadata": {},
     "output_type": "execute_result"
    },
    {
     "data": {
      "image/png": "[encoded data removed]",
      "text/plain": [
       "<Figure size 1440x1008 with 1 Axes>"
      ]
     },
     "metadata": {
      "needs_background": "light"
     },
     "output_type": "display_data"
    }
   ],
   "source": [
    "plt.figure(figsize=(20,14))\n",
    "sns.countplot(x='main_category',data=df.loc[df['state'] == 'successful'],hue='state')"
   ]
  },
  {
   "cell_type": "code",
   "execution_count": 65,
   "metadata": {},
   "outputs": [],
   "source": [
    "df_failed = df.loc[df['state'] == 'failed']"
   ]
  },
  {
   "cell_type": "code",
   "execution_count": 66,
   "metadata": {},
   "outputs": [
    {
     "data": {
      "text/plain": [
       "<AxesSubplot:xlabel='main_category', ylabel='count'>"
      ]
     },
     "execution_count": 66,
     "metadata": {},
     "output_type": "execute_result"
    },
    {
     "data": {
      "image/png": "[encoded data removed]",
      "text/plain": [
       "<Figure size 1440x1008 with 1 Axes>"
      ]
     },
     "metadata": {
      "needs_background": "light"
     },
     "output_type": "display_data"
    }
   ],
   "source": [
    "plt.figure(figsize=(20,14))\n",
    "sns.countplot(x='main_category',data=df_failed)"
   ]
  },
  {
   "cell_type": "code",
   "execution_count": 67,
   "metadata": {},
   "outputs": [],
   "source": [
    "df_successful = df.loc[df['state'] == 'successful']"
   ]
  },
  {
   "cell_type": "code",
   "execution_count": 70,
   "metadata": {},
   "outputs": [
    {
     "data": {
      "text/plain": [
       "<AxesSubplot:xlabel='main_category', ylabel='count'>"
      ]
     },
     "execution_count": 70,
     "metadata": {},
     "output_type": "execute_result"
    },
    {
     "data": {
      "image/png": "[encoded data removed]",
      "text/plain": [
       "<Figure size 1440x1008 with 1 Axes>"
      ]
     },
     "metadata": {
      "needs_background": "light"
     },
     "output_type": "display_data"
    }
   ],
   "source": [
    "plt.figure(figsize=(20,14))\n",
    "sns.countplot(x='main_category',data=df_successful,orient='v')"
   ]
  },
  {
   "cell_type": "code",
   "execution_count": 73,
   "metadata": {},
   "outputs": [
    {
     "data": {
      "text/plain": [
       "Film & Video    32891\n",
       "Publishing      23113\n",
       "Music           21696\n",
       "Technology      20613\n",
       "Games           16002\n",
       "Food            15969\n",
       "Design          14814\n",
       "Fashion         14181\n",
       "Art             14130\n",
       "Photography      6384\n",
       "Crafts           5703\n",
       "Comics           4036\n",
       "Theater          3708\n",
       "Journalism       3136\n",
       "Dance            1235\n",
       "Name: main_category, dtype: int64"
      ]
     },
     "execution_count": 73,
     "metadata": {},
     "output_type": "execute_result"
    }
   ],
   "source": [
    "df_failed['main_category'].value_counts()"
   ]
  },
  {
   "cell_type": "code",
   "execution_count": 75,
   "metadata": {},
   "outputs": [
    {
     "data": {
      "text/plain": [
       "Music           24105\n",
       "Film & Video    23612\n",
       "Games           12518\n",
       "Publishing      12300\n",
       "Art             11510\n",
       "Design          10549\n",
       "Theater          6534\n",
       "Technology       6433\n",
       "Food             6085\n",
       "Comics           5842\n",
       "Fashion          5593\n",
       "Photography      3305\n",
       "Dance            2338\n",
       "Crafts           2115\n",
       "Journalism       1012\n",
       "Name: main_category, dtype: int64"
      ]
     },
     "execution_count": 75,
     "metadata": {},
     "output_type": "execute_result"
    }
   ],
   "source": [
    "df_successful['main_category'].value_counts()"
   ]
  },
  {
   "cell_type": "code",
   "execution_count": 78,
   "metadata": {},
   "outputs": [
    {
     "data": {
      "text/html": [
       "<div>\n",
       "<style scoped>\n",
       "    .dataframe tbody tr th:only-of-type {\n",
       "        vertical-align: middle;\n",
       "    }\n",
       "\n",
       "    .dataframe tbody tr th {\n",
       "        vertical-align: top;\n",
       "    }\n",
       "\n",
       "    .dataframe thead th {\n",
       "        text-align: right;\n",
       "    }\n",
       "</style>\n",
       "<table border=\"1\" class=\"dataframe\">\n",
       "  <thead>\n",
       "    <tr style=\"text-align: right;\">\n",
       "      <th></th>\n",
       "      <th>ID</th>\n",
       "      <th>name</th>\n",
       "      <th>category</th>\n",
       "      <th>main_category</th>\n",
       "      <th>currency</th>\n",
       "      <th>deadline</th>\n",
       "      <th>goal</th>\n",
       "      <th>launched</th>\n",
       "      <th>pledged</th>\n",
       "      <th>state</th>\n",
       "      <th>backers</th>\n",
       "      <th>country</th>\n",
       "      <th>usd pledged</th>\n",
       "      <th>usd_pledged_real</th>\n",
       "      <th>usd_goal_real</th>\n",
       "      <th>launched_year</th>\n",
       "      <th>launched_month</th>\n",
       "      <th>deadline_year</th>\n",
       "      <th>deadline_month</th>\n",
       "    </tr>\n",
       "  </thead>\n",
       "  <tbody>\n",
       "    <tr>\n",
       "      <th>157270</th>\n",
       "      <td>1799979574</td>\n",
       "      <td>Pebble Time - Awesome Smartwatch, No Compromises</td>\n",
       "      <td>Product Design</td>\n",
       "      <td>Design</td>\n",
       "      <td>USD</td>\n",
       "      <td>2015-03-28</td>\n",
       "      <td>500000.0</td>\n",
       "      <td>2015-02-24 15:44:42</td>\n",
       "      <td>20338986.27</td>\n",
       "      <td>successful</td>\n",
       "      <td>78471</td>\n",
       "      <td>US</td>\n",
       "      <td>20338986.27</td>\n",
       "      <td>20338986.27</td>\n",
       "      <td>500000.0</td>\n",
       "      <td>2015</td>\n",
       "      <td>2</td>\n",
       "      <td>2015</td>\n",
       "      <td>3</td>\n",
       "    </tr>\n",
       "    <tr>\n",
       "      <th>250254</th>\n",
       "      <td>342886736</td>\n",
       "      <td>COOLEST COOLER: 21st Century Cooler that's Act...</td>\n",
       "      <td>Product Design</td>\n",
       "      <td>Design</td>\n",
       "      <td>USD</td>\n",
       "      <td>2014-08-30</td>\n",
       "      <td>50000.0</td>\n",
       "      <td>2014-07-08 10:14:37</td>\n",
       "      <td>13285226.36</td>\n",
       "      <td>successful</td>\n",
       "      <td>62642</td>\n",
       "      <td>US</td>\n",
       "      <td>13285226.36</td>\n",
       "      <td>13285226.36</td>\n",
       "      <td>50000.0</td>\n",
       "      <td>2014</td>\n",
       "      <td>7</td>\n",
       "      <td>2014</td>\n",
       "      <td>8</td>\n",
       "    </tr>\n",
       "    <tr>\n",
       "      <th>216629</th>\n",
       "      <td>2103598555</td>\n",
       "      <td>Pebble 2, Time 2 + All-New Pebble Core</td>\n",
       "      <td>Product Design</td>\n",
       "      <td>Design</td>\n",
       "      <td>USD</td>\n",
       "      <td>2016-06-30</td>\n",
       "      <td>1000000.0</td>\n",
       "      <td>2016-05-24 15:49:52</td>\n",
       "      <td>12779843.49</td>\n",
       "      <td>successful</td>\n",
       "      <td>66673</td>\n",
       "      <td>US</td>\n",
       "      <td>12779843.49</td>\n",
       "      <td>12779843.49</td>\n",
       "      <td>1000000.0</td>\n",
       "      <td>2016</td>\n",
       "      <td>5</td>\n",
       "      <td>2016</td>\n",
       "      <td>6</td>\n",
       "    </tr>\n",
       "    <tr>\n",
       "      <th>289915</th>\n",
       "      <td>545070200</td>\n",
       "      <td>Kingdom Death: Monster 1.5</td>\n",
       "      <td>Tabletop Games</td>\n",
       "      <td>Games</td>\n",
       "      <td>USD</td>\n",
       "      <td>2017-01-08</td>\n",
       "      <td>100000.0</td>\n",
       "      <td>2016-11-25 06:01:41</td>\n",
       "      <td>12393139.69</td>\n",
       "      <td>successful</td>\n",
       "      <td>19264</td>\n",
       "      <td>US</td>\n",
       "      <td>5228482.00</td>\n",
       "      <td>12393139.69</td>\n",
       "      <td>100000.0</td>\n",
       "      <td>2016</td>\n",
       "      <td>11</td>\n",
       "      <td>2017</td>\n",
       "      <td>1</td>\n",
       "    </tr>\n",
       "    <tr>\n",
       "      <th>282416</th>\n",
       "      <td>506924864</td>\n",
       "      <td>Pebble: E-Paper Watch for iPhone and Android</td>\n",
       "      <td>Product Design</td>\n",
       "      <td>Design</td>\n",
       "      <td>USD</td>\n",
       "      <td>2012-05-19</td>\n",
       "      <td>100000.0</td>\n",
       "      <td>2012-04-11 06:59:04</td>\n",
       "      <td>10266845.74</td>\n",
       "      <td>successful</td>\n",
       "      <td>68929</td>\n",
       "      <td>US</td>\n",
       "      <td>10266845.74</td>\n",
       "      <td>10266845.74</td>\n",
       "      <td>100000.0</td>\n",
       "      <td>2012</td>\n",
       "      <td>4</td>\n",
       "      <td>2012</td>\n",
       "      <td>5</td>\n",
       "    </tr>\n",
       "    <tr>\n",
       "      <th>293861</th>\n",
       "      <td>565687737</td>\n",
       "      <td>The World's Best TRAVEL JACKET with 15 Feature...</td>\n",
       "      <td>Product Design</td>\n",
       "      <td>Design</td>\n",
       "      <td>USD</td>\n",
       "      <td>2015-09-03</td>\n",
       "      <td>20000.0</td>\n",
       "      <td>2015-07-07 13:52:34</td>\n",
       "      <td>9192055.66</td>\n",
       "      <td>successful</td>\n",
       "      <td>44949</td>\n",
       "      <td>US</td>\n",
       "      <td>9192055.66</td>\n",
       "      <td>9192055.66</td>\n",
       "      <td>20000.0</td>\n",
       "      <td>2015</td>\n",
       "      <td>7</td>\n",
       "      <td>2015</td>\n",
       "      <td>9</td>\n",
       "    </tr>\n",
       "    <tr>\n",
       "      <th>187652</th>\n",
       "      <td>1955357092</td>\n",
       "      <td>Exploding Kittens</td>\n",
       "      <td>Tabletop Games</td>\n",
       "      <td>Games</td>\n",
       "      <td>USD</td>\n",
       "      <td>2015-02-20</td>\n",
       "      <td>10000.0</td>\n",
       "      <td>2015-01-20 19:00:19</td>\n",
       "      <td>8782571.99</td>\n",
       "      <td>successful</td>\n",
       "      <td>219382</td>\n",
       "      <td>US</td>\n",
       "      <td>8782571.99</td>\n",
       "      <td>8782571.99</td>\n",
       "      <td>10000.0</td>\n",
       "      <td>2015</td>\n",
       "      <td>1</td>\n",
       "      <td>2015</td>\n",
       "      <td>2</td>\n",
       "    </tr>\n",
       "    <tr>\n",
       "      <th>6665</th>\n",
       "      <td>1033978702</td>\n",
       "      <td>OUYA: A New Kind of Video Game Console</td>\n",
       "      <td>Gaming Hardware</td>\n",
       "      <td>Games</td>\n",
       "      <td>USD</td>\n",
       "      <td>2012-08-09</td>\n",
       "      <td>950000.0</td>\n",
       "      <td>2012-07-10 14:44:41</td>\n",
       "      <td>8596474.58</td>\n",
       "      <td>successful</td>\n",
       "      <td>63416</td>\n",
       "      <td>US</td>\n",
       "      <td>8596474.58</td>\n",
       "      <td>8596474.58</td>\n",
       "      <td>950000.0</td>\n",
       "      <td>2012</td>\n",
       "      <td>7</td>\n",
       "      <td>2012</td>\n",
       "      <td>8</td>\n",
       "    </tr>\n",
       "    <tr>\n",
       "      <th>309630</th>\n",
       "      <td>647013276</td>\n",
       "      <td>THE 7th CONTINENT – What Goes Up, Must Come Down.</td>\n",
       "      <td>Tabletop Games</td>\n",
       "      <td>Games</td>\n",
       "      <td>USD</td>\n",
       "      <td>2017-10-19</td>\n",
       "      <td>40000.0</td>\n",
       "      <td>2017-09-26 20:00:02</td>\n",
       "      <td>7072757.00</td>\n",
       "      <td>successful</td>\n",
       "      <td>43733</td>\n",
       "      <td>US</td>\n",
       "      <td>1574139.50</td>\n",
       "      <td>7072757.00</td>\n",
       "      <td>40000.0</td>\n",
       "      <td>2017</td>\n",
       "      <td>9</td>\n",
       "      <td>2017</td>\n",
       "      <td>10</td>\n",
       "    </tr>\n",
       "    <tr>\n",
       "      <th>271276</th>\n",
       "      <td>450099426</td>\n",
       "      <td>The Everyday Backpack, Tote, and Sling</td>\n",
       "      <td>Product Design</td>\n",
       "      <td>Design</td>\n",
       "      <td>USD</td>\n",
       "      <td>2016-09-10</td>\n",
       "      <td>500000.0</td>\n",
       "      <td>2016-07-13 00:47:35</td>\n",
       "      <td>6565782.50</td>\n",
       "      <td>successful</td>\n",
       "      <td>26359</td>\n",
       "      <td>US</td>\n",
       "      <td>1462611.00</td>\n",
       "      <td>6565782.50</td>\n",
       "      <td>500000.0</td>\n",
       "      <td>2016</td>\n",
       "      <td>7</td>\n",
       "      <td>2016</td>\n",
       "      <td>9</td>\n",
       "    </tr>\n",
       "  </tbody>\n",
       "</table>\n",
       "</div>"
      ],
      "text/plain": [
       "                ID                                               name  \\\n",
       "157270  1799979574   Pebble Time - Awesome Smartwatch, No Compromises   \n",
       "250254   342886736  COOLEST COOLER: 21st Century Cooler that's Act...   \n",
       "216629  2103598555             Pebble 2, Time 2 + All-New Pebble Core   \n",
       "289915   545070200                         Kingdom Death: Monster 1.5   \n",
       "282416   506924864       Pebble: E-Paper Watch for iPhone and Android   \n",
       "293861   565687737  The World's Best TRAVEL JACKET with 15 Feature...   \n",
       "187652  1955357092                                  Exploding Kittens   \n",
       "6665    1033978702             OUYA: A New Kind of Video Game Console   \n",
       "309630   647013276  THE 7th CONTINENT – What Goes Up, Must Come Down.   \n",
       "271276   450099426             The Everyday Backpack, Tote, and Sling   \n",
       "\n",
       "               category main_category currency   deadline       goal  \\\n",
       "157270   Product Design        Design      USD 2015-03-28   500000.0   \n",
       "250254   Product Design        Design      USD 2014-08-30    50000.0   \n",
       "216629   Product Design        Design      USD 2016-06-30  1000000.0   \n",
       "289915   Tabletop Games         Games      USD 2017-01-08   100000.0   \n",
       "282416   Product Design        Design      USD 2012-05-19   100000.0   \n",
       "293861   Product Design        Design      USD 2015-09-03    20000.0   \n",
       "187652   Tabletop Games         Games      USD 2015-02-20    10000.0   \n",
       "6665    Gaming Hardware         Games      USD 2012-08-09   950000.0   \n",
       "309630   Tabletop Games         Games      USD 2017-10-19    40000.0   \n",
       "271276   Product Design        Design      USD 2016-09-10   500000.0   \n",
       "\n",
       "                  launched      pledged       state  backers country  \\\n",
       "157270 2015-02-24 15:44:42  20338986.27  successful    78471      US   \n",
       "250254 2014-07-08 10:14:37  13285226.36  successful    62642      US   \n",
       "216629 2016-05-24 15:49:52  12779843.49  successful    66673      US   \n",
       "289915 2016-11-25 06:01:41  12393139.69  successful    19264      US   \n",
       "282416 2012-04-11 06:59:04  10266845.74  successful    68929      US   \n",
       "293861 2015-07-07 13:52:34   9192055.66  successful    44949      US   \n",
       "187652 2015-01-20 19:00:19   8782571.99  successful   219382      US   \n",
       "6665   2012-07-10 14:44:41   8596474.58  successful    63416      US   \n",
       "309630 2017-09-26 20:00:02   7072757.00  successful    43733      US   \n",
       "271276 2016-07-13 00:47:35   6565782.50  successful    26359      US   \n",
       "\n",
       "        usd pledged  usd_pledged_real  usd_goal_real  launched_year  \\\n",
       "157270  20338986.27       20338986.27       500000.0           2015   \n",
       "250254  13285226.36       13285226.36        50000.0           2014   \n",
       "216629  12779843.49       12779843.49      1000000.0           2016   \n",
       "289915   5228482.00       12393139.69       100000.0           2016   \n",
       "282416  10266845.74       10266845.74       100000.0           2012   \n",
       "293861   9192055.66        9192055.66        20000.0           2015   \n",
       "187652   8782571.99        8782571.99        10000.0           2015   \n",
       "6665     8596474.58        8596474.58       950000.0           2012   \n",
       "309630   1574139.50        7072757.00        40000.0           2017   \n",
       "271276   1462611.00        6565782.50       500000.0           2016   \n",
       "\n",
       "        launched_month  deadline_year  deadline_month  \n",
       "157270               2           2015               3  \n",
       "250254               7           2014               8  \n",
       "216629               5           2016               6  \n",
       "289915              11           2017               1  \n",
       "282416               4           2012               5  \n",
       "293861               7           2015               9  \n",
       "187652               1           2015               2  \n",
       "6665                 7           2012               8  \n",
       "309630               9           2017              10  \n",
       "271276               7           2016               9  "
      ]
     },
     "execution_count": 78,
     "metadata": {},
     "output_type": "execute_result"
    }
   ],
   "source": [
    "df.sort_values('usd_pledged_real',ascending=False).head(10)"
   ]
  },
  {
   "cell_type": "code",
   "execution_count": 79,
   "metadata": {},
   "outputs": [
    {
     "data": {
      "text/html": [
       "<div>\n",
       "<style scoped>\n",
       "    .dataframe tbody tr th:only-of-type {\n",
       "        vertical-align: middle;\n",
       "    }\n",
       "\n",
       "    .dataframe tbody tr th {\n",
       "        vertical-align: top;\n",
       "    }\n",
       "\n",
       "    .dataframe thead th {\n",
       "        text-align: right;\n",
       "    }\n",
       "</style>\n",
       "<table border=\"1\" class=\"dataframe\">\n",
       "  <thead>\n",
       "    <tr style=\"text-align: right;\">\n",
       "      <th></th>\n",
       "      <th>ID</th>\n",
       "      <th>name</th>\n",
       "      <th>category</th>\n",
       "      <th>main_category</th>\n",
       "      <th>currency</th>\n",
       "      <th>deadline</th>\n",
       "      <th>goal</th>\n",
       "      <th>launched</th>\n",
       "      <th>pledged</th>\n",
       "      <th>state</th>\n",
       "      <th>backers</th>\n",
       "      <th>country</th>\n",
       "      <th>usd pledged</th>\n",
       "      <th>usd_pledged_real</th>\n",
       "      <th>usd_goal_real</th>\n",
       "      <th>launched_year</th>\n",
       "      <th>launched_month</th>\n",
       "      <th>deadline_year</th>\n",
       "      <th>deadline_month</th>\n",
       "    </tr>\n",
       "  </thead>\n",
       "  <tbody>\n",
       "    <tr>\n",
       "      <th>157270</th>\n",
       "      <td>1799979574</td>\n",
       "      <td>Pebble Time - Awesome Smartwatch, No Compromises</td>\n",
       "      <td>Product Design</td>\n",
       "      <td>Design</td>\n",
       "      <td>USD</td>\n",
       "      <td>2015-03-28</td>\n",
       "      <td>500000.0</td>\n",
       "      <td>2015-02-24 15:44:42</td>\n",
       "      <td>20338986.27</td>\n",
       "      <td>successful</td>\n",
       "      <td>78471</td>\n",
       "      <td>US</td>\n",
       "      <td>20338986.27</td>\n",
       "      <td>20338986.27</td>\n",
       "      <td>500000.0</td>\n",
       "      <td>2015</td>\n",
       "      <td>2</td>\n",
       "      <td>2015</td>\n",
       "      <td>3</td>\n",
       "    </tr>\n",
       "    <tr>\n",
       "      <th>250254</th>\n",
       "      <td>342886736</td>\n",
       "      <td>COOLEST COOLER: 21st Century Cooler that's Act...</td>\n",
       "      <td>Product Design</td>\n",
       "      <td>Design</td>\n",
       "      <td>USD</td>\n",
       "      <td>2014-08-30</td>\n",
       "      <td>50000.0</td>\n",
       "      <td>2014-07-08 10:14:37</td>\n",
       "      <td>13285226.36</td>\n",
       "      <td>successful</td>\n",
       "      <td>62642</td>\n",
       "      <td>US</td>\n",
       "      <td>13285226.36</td>\n",
       "      <td>13285226.36</td>\n",
       "      <td>50000.0</td>\n",
       "      <td>2014</td>\n",
       "      <td>7</td>\n",
       "      <td>2014</td>\n",
       "      <td>8</td>\n",
       "    </tr>\n",
       "    <tr>\n",
       "      <th>216629</th>\n",
       "      <td>2103598555</td>\n",
       "      <td>Pebble 2, Time 2 + All-New Pebble Core</td>\n",
       "      <td>Product Design</td>\n",
       "      <td>Design</td>\n",
       "      <td>USD</td>\n",
       "      <td>2016-06-30</td>\n",
       "      <td>1000000.0</td>\n",
       "      <td>2016-05-24 15:49:52</td>\n",
       "      <td>12779843.49</td>\n",
       "      <td>successful</td>\n",
       "      <td>66673</td>\n",
       "      <td>US</td>\n",
       "      <td>12779843.49</td>\n",
       "      <td>12779843.49</td>\n",
       "      <td>1000000.0</td>\n",
       "      <td>2016</td>\n",
       "      <td>5</td>\n",
       "      <td>2016</td>\n",
       "      <td>6</td>\n",
       "    </tr>\n",
       "    <tr>\n",
       "      <th>289915</th>\n",
       "      <td>545070200</td>\n",
       "      <td>Kingdom Death: Monster 1.5</td>\n",
       "      <td>Tabletop Games</td>\n",
       "      <td>Games</td>\n",
       "      <td>USD</td>\n",
       "      <td>2017-01-08</td>\n",
       "      <td>100000.0</td>\n",
       "      <td>2016-11-25 06:01:41</td>\n",
       "      <td>12393139.69</td>\n",
       "      <td>successful</td>\n",
       "      <td>19264</td>\n",
       "      <td>US</td>\n",
       "      <td>5228482.00</td>\n",
       "      <td>12393139.69</td>\n",
       "      <td>100000.0</td>\n",
       "      <td>2016</td>\n",
       "      <td>11</td>\n",
       "      <td>2017</td>\n",
       "      <td>1</td>\n",
       "    </tr>\n",
       "    <tr>\n",
       "      <th>282416</th>\n",
       "      <td>506924864</td>\n",
       "      <td>Pebble: E-Paper Watch for iPhone and Android</td>\n",
       "      <td>Product Design</td>\n",
       "      <td>Design</td>\n",
       "      <td>USD</td>\n",
       "      <td>2012-05-19</td>\n",
       "      <td>100000.0</td>\n",
       "      <td>2012-04-11 06:59:04</td>\n",
       "      <td>10266845.74</td>\n",
       "      <td>successful</td>\n",
       "      <td>68929</td>\n",
       "      <td>US</td>\n",
       "      <td>10266845.74</td>\n",
       "      <td>10266845.74</td>\n",
       "      <td>100000.0</td>\n",
       "      <td>2012</td>\n",
       "      <td>4</td>\n",
       "      <td>2012</td>\n",
       "      <td>5</td>\n",
       "    </tr>\n",
       "    <tr>\n",
       "      <th>293861</th>\n",
       "      <td>565687737</td>\n",
       "      <td>The World's Best TRAVEL JACKET with 15 Feature...</td>\n",
       "      <td>Product Design</td>\n",
       "      <td>Design</td>\n",
       "      <td>USD</td>\n",
       "      <td>2015-09-03</td>\n",
       "      <td>20000.0</td>\n",
       "      <td>2015-07-07 13:52:34</td>\n",
       "      <td>9192055.66</td>\n",
       "      <td>successful</td>\n",
       "      <td>44949</td>\n",
       "      <td>US</td>\n",
       "      <td>9192055.66</td>\n",
       "      <td>9192055.66</td>\n",
       "      <td>20000.0</td>\n",
       "      <td>2015</td>\n",
       "      <td>7</td>\n",
       "      <td>2015</td>\n",
       "      <td>9</td>\n",
       "    </tr>\n",
       "    <tr>\n",
       "      <th>187652</th>\n",
       "      <td>1955357092</td>\n",
       "      <td>Exploding Kittens</td>\n",
       "      <td>Tabletop Games</td>\n",
       "      <td>Games</td>\n",
       "      <td>USD</td>\n",
       "      <td>2015-02-20</td>\n",
       "      <td>10000.0</td>\n",
       "      <td>2015-01-20 19:00:19</td>\n",
       "      <td>8782571.99</td>\n",
       "      <td>successful</td>\n",
       "      <td>219382</td>\n",
       "      <td>US</td>\n",
       "      <td>8782571.99</td>\n",
       "      <td>8782571.99</td>\n",
       "      <td>10000.0</td>\n",
       "      <td>2015</td>\n",
       "      <td>1</td>\n",
       "      <td>2015</td>\n",
       "      <td>2</td>\n",
       "    </tr>\n",
       "    <tr>\n",
       "      <th>6665</th>\n",
       "      <td>1033978702</td>\n",
       "      <td>OUYA: A New Kind of Video Game Console</td>\n",
       "      <td>Gaming Hardware</td>\n",
       "      <td>Games</td>\n",
       "      <td>USD</td>\n",
       "      <td>2012-08-09</td>\n",
       "      <td>950000.0</td>\n",
       "      <td>2012-07-10 14:44:41</td>\n",
       "      <td>8596474.58</td>\n",
       "      <td>successful</td>\n",
       "      <td>63416</td>\n",
       "      <td>US</td>\n",
       "      <td>8596474.58</td>\n",
       "      <td>8596474.58</td>\n",
       "      <td>950000.0</td>\n",
       "      <td>2012</td>\n",
       "      <td>7</td>\n",
       "      <td>2012</td>\n",
       "      <td>8</td>\n",
       "    </tr>\n",
       "    <tr>\n",
       "      <th>309630</th>\n",
       "      <td>647013276</td>\n",
       "      <td>THE 7th CONTINENT – What Goes Up, Must Come Down.</td>\n",
       "      <td>Tabletop Games</td>\n",
       "      <td>Games</td>\n",
       "      <td>USD</td>\n",
       "      <td>2017-10-19</td>\n",
       "      <td>40000.0</td>\n",
       "      <td>2017-09-26 20:00:02</td>\n",
       "      <td>7072757.00</td>\n",
       "      <td>successful</td>\n",
       "      <td>43733</td>\n",
       "      <td>US</td>\n",
       "      <td>1574139.50</td>\n",
       "      <td>7072757.00</td>\n",
       "      <td>40000.0</td>\n",
       "      <td>2017</td>\n",
       "      <td>9</td>\n",
       "      <td>2017</td>\n",
       "      <td>10</td>\n",
       "    </tr>\n",
       "    <tr>\n",
       "      <th>271276</th>\n",
       "      <td>450099426</td>\n",
       "      <td>The Everyday Backpack, Tote, and Sling</td>\n",
       "      <td>Product Design</td>\n",
       "      <td>Design</td>\n",
       "      <td>USD</td>\n",
       "      <td>2016-09-10</td>\n",
       "      <td>500000.0</td>\n",
       "      <td>2016-07-13 00:47:35</td>\n",
       "      <td>6565782.50</td>\n",
       "      <td>successful</td>\n",
       "      <td>26359</td>\n",
       "      <td>US</td>\n",
       "      <td>1462611.00</td>\n",
       "      <td>6565782.50</td>\n",
       "      <td>500000.0</td>\n",
       "      <td>2016</td>\n",
       "      <td>7</td>\n",
       "      <td>2016</td>\n",
       "      <td>9</td>\n",
       "    </tr>\n",
       "  </tbody>\n",
       "</table>\n",
       "</div>"
      ],
      "text/plain": [
       "                ID                                               name  \\\n",
       "157270  1799979574   Pebble Time - Awesome Smartwatch, No Compromises   \n",
       "250254   342886736  COOLEST COOLER: 21st Century Cooler that's Act...   \n",
       "216629  2103598555             Pebble 2, Time 2 + All-New Pebble Core   \n",
       "289915   545070200                         Kingdom Death: Monster 1.5   \n",
       "282416   506924864       Pebble: E-Paper Watch for iPhone and Android   \n",
       "293861   565687737  The World's Best TRAVEL JACKET with 15 Feature...   \n",
       "187652  1955357092                                  Exploding Kittens   \n",
       "6665    1033978702             OUYA: A New Kind of Video Game Console   \n",
       "309630   647013276  THE 7th CONTINENT – What Goes Up, Must Come Down.   \n",
       "271276   450099426             The Everyday Backpack, Tote, and Sling   \n",
       "\n",
       "               category main_category currency   deadline       goal  \\\n",
       "157270   Product Design        Design      USD 2015-03-28   500000.0   \n",
       "250254   Product Design        Design      USD 2014-08-30    50000.0   \n",
       "216629   Product Design        Design      USD 2016-06-30  1000000.0   \n",
       "289915   Tabletop Games         Games      USD 2017-01-08   100000.0   \n",
       "282416   Product Design        Design      USD 2012-05-19   100000.0   \n",
       "293861   Product Design        Design      USD 2015-09-03    20000.0   \n",
       "187652   Tabletop Games         Games      USD 2015-02-20    10000.0   \n",
       "6665    Gaming Hardware         Games      USD 2012-08-09   950000.0   \n",
       "309630   Tabletop Games         Games      USD 2017-10-19    40000.0   \n",
       "271276   Product Design        Design      USD 2016-09-10   500000.0   \n",
       "\n",
       "                  launched      pledged       state  backers country  \\\n",
       "157270 2015-02-24 15:44:42  20338986.27  successful    78471      US   \n",
       "250254 2014-07-08 10:14:37  13285226.36  successful    62642      US   \n",
       "216629 2016-05-24 15:49:52  12779843.49  successful    66673      US   \n",
       "289915 2016-11-25 06:01:41  12393139.69  successful    19264      US   \n",
       "282416 2012-04-11 06:59:04  10266845.74  successful    68929      US   \n",
       "293861 2015-07-07 13:52:34   9192055.66  successful    44949      US   \n",
       "187652 2015-01-20 19:00:19   8782571.99  successful   219382      US   \n",
       "6665   2012-07-10 14:44:41   8596474.58  successful    63416      US   \n",
       "309630 2017-09-26 20:00:02   7072757.00  successful    43733      US   \n",
       "271276 2016-07-13 00:47:35   6565782.50  successful    26359      US   \n",
       "\n",
       "        usd pledged  usd_pledged_real  usd_goal_real  launched_year  \\\n",
       "157270  20338986.27       20338986.27       500000.0           2015   \n",
       "250254  13285226.36       13285226.36        50000.0           2014   \n",
       "216629  12779843.49       12779843.49      1000000.0           2016   \n",
       "289915   5228482.00       12393139.69       100000.0           2016   \n",
       "282416  10266845.74       10266845.74       100000.0           2012   \n",
       "293861   9192055.66        9192055.66        20000.0           2015   \n",
       "187652   8782571.99        8782571.99        10000.0           2015   \n",
       "6665     8596474.58        8596474.58       950000.0           2012   \n",
       "309630   1574139.50        7072757.00        40000.0           2017   \n",
       "271276   1462611.00        6565782.50       500000.0           2016   \n",
       "\n",
       "        launched_month  deadline_year  deadline_month  \n",
       "157270               2           2015               3  \n",
       "250254               7           2014               8  \n",
       "216629               5           2016               6  \n",
       "289915              11           2017               1  \n",
       "282416               4           2012               5  \n",
       "293861               7           2015               9  \n",
       "187652               1           2015               2  \n",
       "6665                 7           2012               8  \n",
       "309630               9           2017              10  \n",
       "271276               7           2016               9  "
      ]
     },
     "execution_count": 79,
     "metadata": {},
     "output_type": "execute_result"
    }
   ],
   "source": [
    "df_successful.sort_values('usd_pledged_real',ascending=False).head(10)"
   ]
  },
  {
   "cell_type": "code",
   "execution_count": 80,
   "metadata": {},
   "outputs": [
    {
     "data": {
      "text/html": [
       "<div>\n",
       "<style scoped>\n",
       "    .dataframe tbody tr th:only-of-type {\n",
       "        vertical-align: middle;\n",
       "    }\n",
       "\n",
       "    .dataframe tbody tr th {\n",
       "        vertical-align: top;\n",
       "    }\n",
       "\n",
       "    .dataframe thead th {\n",
       "        text-align: right;\n",
       "    }\n",
       "</style>\n",
       "<table border=\"1\" class=\"dataframe\">\n",
       "  <thead>\n",
       "    <tr style=\"text-align: right;\">\n",
       "      <th></th>\n",
       "      <th>ID</th>\n",
       "      <th>name</th>\n",
       "      <th>category</th>\n",
       "      <th>main_category</th>\n",
       "      <th>currency</th>\n",
       "      <th>deadline</th>\n",
       "      <th>goal</th>\n",
       "      <th>launched</th>\n",
       "      <th>pledged</th>\n",
       "      <th>state</th>\n",
       "      <th>backers</th>\n",
       "      <th>country</th>\n",
       "      <th>usd pledged</th>\n",
       "      <th>usd_pledged_real</th>\n",
       "      <th>usd_goal_real</th>\n",
       "      <th>launched_year</th>\n",
       "      <th>launched_month</th>\n",
       "      <th>deadline_year</th>\n",
       "      <th>deadline_month</th>\n",
       "    </tr>\n",
       "  </thead>\n",
       "  <tbody>\n",
       "    <tr>\n",
       "      <th>55335</th>\n",
       "      <td>1281558052</td>\n",
       "      <td>The Purpose Hotel: Change the World in Your Sleep</td>\n",
       "      <td>Design</td>\n",
       "      <td>Design</td>\n",
       "      <td>USD</td>\n",
       "      <td>2016-09-03</td>\n",
       "      <td>2000000.0</td>\n",
       "      <td>2016-07-19 16:25:24</td>\n",
       "      <td>757352.94</td>\n",
       "      <td>failed</td>\n",
       "      <td>5338</td>\n",
       "      <td>US</td>\n",
       "      <td>15183.00</td>\n",
       "      <td>757352.94</td>\n",
       "      <td>2000000.00</td>\n",
       "      <td>2016</td>\n",
       "      <td>7</td>\n",
       "      <td>2016</td>\n",
       "      <td>9</td>\n",
       "    </tr>\n",
       "    <tr>\n",
       "      <th>174528</th>\n",
       "      <td>1887558032</td>\n",
       "      <td>Crowdfunding Rebel Alliance X-Wing Squadron</td>\n",
       "      <td>Hardware</td>\n",
       "      <td>Technology</td>\n",
       "      <td>USD</td>\n",
       "      <td>2013-04-01</td>\n",
       "      <td>11000000.0</td>\n",
       "      <td>2013-02-09 01:56:30</td>\n",
       "      <td>721036.46</td>\n",
       "      <td>failed</td>\n",
       "      <td>643</td>\n",
       "      <td>US</td>\n",
       "      <td>721036.46</td>\n",
       "      <td>721036.46</td>\n",
       "      <td>11000000.00</td>\n",
       "      <td>2013</td>\n",
       "      <td>2</td>\n",
       "      <td>2013</td>\n",
       "      <td>4</td>\n",
       "    </tr>\n",
       "    <tr>\n",
       "      <th>112067</th>\n",
       "      <td>1569310517</td>\n",
       "      <td>CENTR: Interactive Panoramic Video in the Palm...</td>\n",
       "      <td>Camera Equipment</td>\n",
       "      <td>Technology</td>\n",
       "      <td>USD</td>\n",
       "      <td>2014-05-30</td>\n",
       "      <td>900000.0</td>\n",
       "      <td>2014-04-30 17:59:35</td>\n",
       "      <td>607628.38</td>\n",
       "      <td>failed</td>\n",
       "      <td>2062</td>\n",
       "      <td>US</td>\n",
       "      <td>607628.38</td>\n",
       "      <td>607628.38</td>\n",
       "      <td>900000.00</td>\n",
       "      <td>2014</td>\n",
       "      <td>4</td>\n",
       "      <td>2014</td>\n",
       "      <td>5</td>\n",
       "    </tr>\n",
       "    <tr>\n",
       "      <th>105355</th>\n",
       "      <td>1535499985</td>\n",
       "      <td>Bruvelo. Simplify and elevate your coffee.</td>\n",
       "      <td>Product Design</td>\n",
       "      <td>Design</td>\n",
       "      <td>USD</td>\n",
       "      <td>2015-10-30</td>\n",
       "      <td>975000.0</td>\n",
       "      <td>2015-09-01 15:37:15</td>\n",
       "      <td>528921.00</td>\n",
       "      <td>failed</td>\n",
       "      <td>1832</td>\n",
       "      <td>US</td>\n",
       "      <td>528921.00</td>\n",
       "      <td>528921.00</td>\n",
       "      <td>975000.00</td>\n",
       "      <td>2015</td>\n",
       "      <td>9</td>\n",
       "      <td>2015</td>\n",
       "      <td>10</td>\n",
       "    </tr>\n",
       "    <tr>\n",
       "      <th>330579</th>\n",
       "      <td>754083452</td>\n",
       "      <td>RED ASH - The Indelible Legend</td>\n",
       "      <td>Video Games</td>\n",
       "      <td>Games</td>\n",
       "      <td>USD</td>\n",
       "      <td>2015-08-03</td>\n",
       "      <td>800000.0</td>\n",
       "      <td>2015-07-04 20:30:24</td>\n",
       "      <td>519999.59</td>\n",
       "      <td>failed</td>\n",
       "      <td>6550</td>\n",
       "      <td>US</td>\n",
       "      <td>519999.59</td>\n",
       "      <td>519999.59</td>\n",
       "      <td>800000.00</td>\n",
       "      <td>2015</td>\n",
       "      <td>7</td>\n",
       "      <td>2015</td>\n",
       "      <td>8</td>\n",
       "    </tr>\n",
       "    <tr>\n",
       "      <th>236742</th>\n",
       "      <td>273466984</td>\n",
       "      <td>Kickstarter Open Source Death Star</td>\n",
       "      <td>Hardware</td>\n",
       "      <td>Technology</td>\n",
       "      <td>GBP</td>\n",
       "      <td>2013-04-01</td>\n",
       "      <td>20000000.0</td>\n",
       "      <td>2013-02-05 02:26:22</td>\n",
       "      <td>328613.96</td>\n",
       "      <td>failed</td>\n",
       "      <td>2388</td>\n",
       "      <td>GB</td>\n",
       "      <td>516318.42</td>\n",
       "      <td>500951.19</td>\n",
       "      <td>30488734.41</td>\n",
       "      <td>2013</td>\n",
       "      <td>2</td>\n",
       "      <td>2013</td>\n",
       "      <td>4</td>\n",
       "    </tr>\n",
       "    <tr>\n",
       "      <th>125781</th>\n",
       "      <td>1638510182</td>\n",
       "      <td>Pantheon: Rise of the Fallen</td>\n",
       "      <td>Video Games</td>\n",
       "      <td>Games</td>\n",
       "      <td>USD</td>\n",
       "      <td>2014-02-22</td>\n",
       "      <td>800000.0</td>\n",
       "      <td>2014-01-13 20:40:41</td>\n",
       "      <td>460657.02</td>\n",
       "      <td>failed</td>\n",
       "      <td>3157</td>\n",
       "      <td>US</td>\n",
       "      <td>460657.02</td>\n",
       "      <td>460657.02</td>\n",
       "      <td>800000.00</td>\n",
       "      <td>2014</td>\n",
       "      <td>1</td>\n",
       "      <td>2014</td>\n",
       "      <td>2</td>\n",
       "    </tr>\n",
       "    <tr>\n",
       "      <th>269884</th>\n",
       "      <td>443272157</td>\n",
       "      <td>Zafirro. Sapphire Blade Razor.</td>\n",
       "      <td>Technology</td>\n",
       "      <td>Technology</td>\n",
       "      <td>USD</td>\n",
       "      <td>2016-08-10</td>\n",
       "      <td>1000000.0</td>\n",
       "      <td>2016-07-11 17:00:34</td>\n",
       "      <td>431484.00</td>\n",
       "      <td>failed</td>\n",
       "      <td>3404</td>\n",
       "      <td>US</td>\n",
       "      <td>51347.00</td>\n",
       "      <td>431484.00</td>\n",
       "      <td>1000000.00</td>\n",
       "      <td>2016</td>\n",
       "      <td>7</td>\n",
       "      <td>2016</td>\n",
       "      <td>8</td>\n",
       "    </tr>\n",
       "    <tr>\n",
       "      <th>322099</th>\n",
       "      <td>710197339</td>\n",
       "      <td>PROJECT AWAKENED</td>\n",
       "      <td>Video Games</td>\n",
       "      <td>Games</td>\n",
       "      <td>USD</td>\n",
       "      <td>2013-03-06</td>\n",
       "      <td>500000.0</td>\n",
       "      <td>2013-02-04 16:40:00</td>\n",
       "      <td>338498.30</td>\n",
       "      <td>failed</td>\n",
       "      <td>6287</td>\n",
       "      <td>US</td>\n",
       "      <td>338498.30</td>\n",
       "      <td>338498.30</td>\n",
       "      <td>500000.00</td>\n",
       "      <td>2013</td>\n",
       "      <td>2</td>\n",
       "      <td>2013</td>\n",
       "      <td>3</td>\n",
       "    </tr>\n",
       "    <tr>\n",
       "      <th>211044</th>\n",
       "      <td>2075570421</td>\n",
       "      <td>Shadow of the Eternals</td>\n",
       "      <td>Video Games</td>\n",
       "      <td>Games</td>\n",
       "      <td>USD</td>\n",
       "      <td>2013-08-24</td>\n",
       "      <td>750000.0</td>\n",
       "      <td>2013-07-25 17:00:53</td>\n",
       "      <td>323950.60</td>\n",
       "      <td>failed</td>\n",
       "      <td>5932</td>\n",
       "      <td>US</td>\n",
       "      <td>323950.60</td>\n",
       "      <td>323950.60</td>\n",
       "      <td>750000.00</td>\n",
       "      <td>2013</td>\n",
       "      <td>7</td>\n",
       "      <td>2013</td>\n",
       "      <td>8</td>\n",
       "    </tr>\n",
       "  </tbody>\n",
       "</table>\n",
       "</div>"
      ],
      "text/plain": [
       "                ID                                               name  \\\n",
       "55335   1281558052  The Purpose Hotel: Change the World in Your Sleep   \n",
       "174528  1887558032        Crowdfunding Rebel Alliance X-Wing Squadron   \n",
       "112067  1569310517  CENTR: Interactive Panoramic Video in the Palm...   \n",
       "105355  1535499985         Bruvelo. Simplify and elevate your coffee.   \n",
       "330579   754083452                     RED ASH - The Indelible Legend   \n",
       "236742   273466984                 Kickstarter Open Source Death Star   \n",
       "125781  1638510182                       Pantheon: Rise of the Fallen   \n",
       "269884   443272157                     Zafirro. Sapphire Blade Razor.   \n",
       "322099   710197339                                   PROJECT AWAKENED   \n",
       "211044  2075570421                             Shadow of the Eternals   \n",
       "\n",
       "                category main_category currency   deadline        goal  \\\n",
       "55335             Design        Design      USD 2016-09-03   2000000.0   \n",
       "174528          Hardware    Technology      USD 2013-04-01  11000000.0   \n",
       "112067  Camera Equipment    Technology      USD 2014-05-30    900000.0   \n",
       "105355    Product Design        Design      USD 2015-10-30    975000.0   \n",
       "330579       Video Games         Games      USD 2015-08-03    800000.0   \n",
       "236742          Hardware    Technology      GBP 2013-04-01  20000000.0   \n",
       "125781       Video Games         Games      USD 2014-02-22    800000.0   \n",
       "269884        Technology    Technology      USD 2016-08-10   1000000.0   \n",
       "322099       Video Games         Games      USD 2013-03-06    500000.0   \n",
       "211044       Video Games         Games      USD 2013-08-24    750000.0   \n",
       "\n",
       "                  launched    pledged   state  backers country  usd pledged  \\\n",
       "55335  2016-07-19 16:25:24  757352.94  failed     5338      US     15183.00   \n",
       "174528 2013-02-09 01:56:30  721036.46  failed      643      US    721036.46   \n",
       "112067 2014-04-30 17:59:35  607628.38  failed     2062      US    607628.38   \n",
       "105355 2015-09-01 15:37:15  528921.00  failed     1832      US    528921.00   \n",
       "330579 2015-07-04 20:30:24  519999.59  failed     6550      US    519999.59   \n",
       "236742 2013-02-05 02:26:22  328613.96  failed     2388      GB    516318.42   \n",
       "125781 2014-01-13 20:40:41  460657.02  failed     3157      US    460657.02   \n",
       "269884 2016-07-11 17:00:34  431484.00  failed     3404      US     51347.00   \n",
       "322099 2013-02-04 16:40:00  338498.30  failed     6287      US    338498.30   \n",
       "211044 2013-07-25 17:00:53  323950.60  failed     5932      US    323950.60   \n",
       "\n",
       "        usd_pledged_real  usd_goal_real  launched_year  launched_month  \\\n",
       "55335          757352.94     2000000.00           2016               7   \n",
       "174528         721036.46    11000000.00           2013               2   \n",
       "112067         607628.38      900000.00           2014               4   \n",
       "105355         528921.00      975000.00           2015               9   \n",
       "330579         519999.59      800000.00           2015               7   \n",
       "236742         500951.19    30488734.41           2013               2   \n",
       "125781         460657.02      800000.00           2014               1   \n",
       "269884         431484.00     1000000.00           2016               7   \n",
       "322099         338498.30      500000.00           2013               2   \n",
       "211044         323950.60      750000.00           2013               7   \n",
       "\n",
       "        deadline_year  deadline_month  \n",
       "55335            2016               9  \n",
       "174528           2013               4  \n",
       "112067           2014               5  \n",
       "105355           2015              10  \n",
       "330579           2015               8  \n",
       "236742           2013               4  \n",
       "125781           2014               2  \n",
       "269884           2016               8  \n",
       "322099           2013               3  \n",
       "211044           2013               8  "
      ]
     },
     "execution_count": 80,
     "metadata": {},
     "output_type": "execute_result"
    }
   ],
   "source": [
    "df_failed.sort_values('usd_pledged_real',ascending=False).head(10)"
   ]
  },
  {
   "cell_type": "code",
   "execution_count": 81,
   "metadata": {},
   "outputs": [
    {
     "data": {
      "text/html": [
       "<div>\n",
       "<style scoped>\n",
       "    .dataframe tbody tr th:only-of-type {\n",
       "        vertical-align: middle;\n",
       "    }\n",
       "\n",
       "    .dataframe tbody tr th {\n",
       "        vertical-align: top;\n",
       "    }\n",
       "\n",
       "    .dataframe thead th {\n",
       "        text-align: right;\n",
       "    }\n",
       "</style>\n",
       "<table border=\"1\" class=\"dataframe\">\n",
       "  <thead>\n",
       "    <tr style=\"text-align: right;\">\n",
       "      <th></th>\n",
       "      <th>ID</th>\n",
       "      <th>name</th>\n",
       "      <th>category</th>\n",
       "      <th>main_category</th>\n",
       "      <th>currency</th>\n",
       "      <th>deadline</th>\n",
       "      <th>goal</th>\n",
       "      <th>launched</th>\n",
       "      <th>pledged</th>\n",
       "      <th>state</th>\n",
       "      <th>backers</th>\n",
       "      <th>country</th>\n",
       "      <th>usd pledged</th>\n",
       "      <th>usd_pledged_real</th>\n",
       "      <th>usd_goal_real</th>\n",
       "      <th>launched_year</th>\n",
       "      <th>launched_month</th>\n",
       "      <th>deadline_year</th>\n",
       "      <th>deadline_month</th>\n",
       "    </tr>\n",
       "  </thead>\n",
       "  <tbody>\n",
       "    <tr>\n",
       "      <th>0</th>\n",
       "      <td>1000002330</td>\n",
       "      <td>The Songs of Adelaide &amp; Abullah</td>\n",
       "      <td>Poetry</td>\n",
       "      <td>Publishing</td>\n",
       "      <td>GBP</td>\n",
       "      <td>2015-10-09</td>\n",
       "      <td>1000.0</td>\n",
       "      <td>2015-08-11 12:12:28</td>\n",
       "      <td>0.0</td>\n",
       "      <td>failed</td>\n",
       "      <td>0</td>\n",
       "      <td>GB</td>\n",
       "      <td>0.0</td>\n",
       "      <td>0.0</td>\n",
       "      <td>1533.95</td>\n",
       "      <td>2015</td>\n",
       "      <td>8</td>\n",
       "      <td>2015</td>\n",
       "      <td>10</td>\n",
       "    </tr>\n",
       "    <tr>\n",
       "      <th>1</th>\n",
       "      <td>1000003930</td>\n",
       "      <td>Greeting From Earth: ZGAC Arts Capsule For ET</td>\n",
       "      <td>Narrative Film</td>\n",
       "      <td>Film &amp; Video</td>\n",
       "      <td>USD</td>\n",
       "      <td>2017-11-01</td>\n",
       "      <td>30000.0</td>\n",
       "      <td>2017-09-02 04:43:57</td>\n",
       "      <td>2421.0</td>\n",
       "      <td>failed</td>\n",
       "      <td>15</td>\n",
       "      <td>US</td>\n",
       "      <td>100.0</td>\n",
       "      <td>2421.0</td>\n",
       "      <td>30000.00</td>\n",
       "      <td>2017</td>\n",
       "      <td>9</td>\n",
       "      <td>2017</td>\n",
       "      <td>11</td>\n",
       "    </tr>\n",
       "    <tr>\n",
       "      <th>2</th>\n",
       "      <td>1000004038</td>\n",
       "      <td>Where is Hank?</td>\n",
       "      <td>Narrative Film</td>\n",
       "      <td>Film &amp; Video</td>\n",
       "      <td>USD</td>\n",
       "      <td>2013-02-26</td>\n",
       "      <td>45000.0</td>\n",
       "      <td>2013-01-12 00:20:50</td>\n",
       "      <td>220.0</td>\n",
       "      <td>failed</td>\n",
       "      <td>3</td>\n",
       "      <td>US</td>\n",
       "      <td>220.0</td>\n",
       "      <td>220.0</td>\n",
       "      <td>45000.00</td>\n",
       "      <td>2013</td>\n",
       "      <td>1</td>\n",
       "      <td>2013</td>\n",
       "      <td>2</td>\n",
       "    </tr>\n",
       "    <tr>\n",
       "      <th>3</th>\n",
       "      <td>1000007540</td>\n",
       "      <td>ToshiCapital Rekordz Needs Help to Complete Album</td>\n",
       "      <td>Music</td>\n",
       "      <td>Music</td>\n",
       "      <td>USD</td>\n",
       "      <td>2012-04-16</td>\n",
       "      <td>5000.0</td>\n",
       "      <td>2012-03-17 03:24:11</td>\n",
       "      <td>1.0</td>\n",
       "      <td>failed</td>\n",
       "      <td>1</td>\n",
       "      <td>US</td>\n",
       "      <td>1.0</td>\n",
       "      <td>1.0</td>\n",
       "      <td>5000.00</td>\n",
       "      <td>2012</td>\n",
       "      <td>3</td>\n",
       "      <td>2012</td>\n",
       "      <td>4</td>\n",
       "    </tr>\n",
       "    <tr>\n",
       "      <th>4</th>\n",
       "      <td>1000011046</td>\n",
       "      <td>Community Film Project: The Art of Neighborhoo...</td>\n",
       "      <td>Film &amp; Video</td>\n",
       "      <td>Film &amp; Video</td>\n",
       "      <td>USD</td>\n",
       "      <td>2015-08-29</td>\n",
       "      <td>19500.0</td>\n",
       "      <td>2015-07-04 08:35:03</td>\n",
       "      <td>1283.0</td>\n",
       "      <td>canceled</td>\n",
       "      <td>14</td>\n",
       "      <td>US</td>\n",
       "      <td>1283.0</td>\n",
       "      <td>1283.0</td>\n",
       "      <td>19500.00</td>\n",
       "      <td>2015</td>\n",
       "      <td>7</td>\n",
       "      <td>2015</td>\n",
       "      <td>8</td>\n",
       "    </tr>\n",
       "  </tbody>\n",
       "</table>\n",
       "</div>"
      ],
      "text/plain": [
       "           ID                                               name  \\\n",
       "0  1000002330                    The Songs of Adelaide & Abullah   \n",
       "1  1000003930      Greeting From Earth: ZGAC Arts Capsule For ET   \n",
       "2  1000004038                                     Where is Hank?   \n",
       "3  1000007540  ToshiCapital Rekordz Needs Help to Complete Album   \n",
       "4  1000011046  Community Film Project: The Art of Neighborhoo...   \n",
       "\n",
       "         category main_category currency   deadline     goal  \\\n",
       "0          Poetry    Publishing      GBP 2015-10-09   1000.0   \n",
       "1  Narrative Film  Film & Video      USD 2017-11-01  30000.0   \n",
       "2  Narrative Film  Film & Video      USD 2013-02-26  45000.0   \n",
       "3           Music         Music      USD 2012-04-16   5000.0   \n",
       "4    Film & Video  Film & Video      USD 2015-08-29  19500.0   \n",
       "\n",
       "             launched  pledged     state  backers country  usd pledged  \\\n",
       "0 2015-08-11 12:12:28      0.0    failed        0      GB          0.0   \n",
       "1 2017-09-02 04:43:57   2421.0    failed       15      US        100.0   \n",
       "2 2013-01-12 00:20:50    220.0    failed        3      US        220.0   \n",
       "3 2012-03-17 03:24:11      1.0    failed        1      US          1.0   \n",
       "4 2015-07-04 08:35:03   1283.0  canceled       14      US       1283.0   \n",
       "\n",
       "   usd_pledged_real  usd_goal_real  launched_year  launched_month  \\\n",
       "0               0.0        1533.95           2015               8   \n",
       "1            2421.0       30000.00           2017               9   \n",
       "2             220.0       45000.00           2013               1   \n",
       "3               1.0        5000.00           2012               3   \n",
       "4            1283.0       19500.00           2015               7   \n",
       "\n",
       "   deadline_year  deadline_month  \n",
       "0           2015              10  \n",
       "1           2017              11  \n",
       "2           2013               2  \n",
       "3           2012               4  \n",
       "4           2015               8  "
      ]
     },
     "execution_count": 81,
     "metadata": {},
     "output_type": "execute_result"
    }
   ],
   "source": [
    "df.head()"
   ]
  }
 ],
 "metadata": {
  "kernelspec": {
   "display_name": "Python 3",
   "language": "python",
   "name": "python3"
  },
  "language_info": {
   "codemirror_mode": {
    "name": "ipython",
    "version": 3
   },
   "file_extension": ".py",
   "mimetype": "text/x-python",
   "name": "python",
   "nbconvert_exporter": "python",
   "pygments_lexer": "ipython3",
   "version": "3.8.5"
  }
 },
 "nbformat": 4,
 "nbformat_minor": 4
}
