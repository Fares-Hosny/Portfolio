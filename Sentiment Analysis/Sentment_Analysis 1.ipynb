{
  "nbformat": 4,
  "nbformat_minor": 0,
  "metadata": {
    "colab": {
      "name": "Sentment Analysis",
      "provenance": []
    },
    "kernelspec": {
      "name": "python3",
      "display_name": "Python 3"
    },
    "language_info": {
      "name": "python"
    }
  },
  "cells": [
    {
      "cell_type": "markdown",
      "source": [
        ""
      ],
      "metadata": {
        "id": "lVV631RCRLnu"
      }
    },
    {
      "cell_type": "code",
      "execution_count": 1,
      "metadata": {
        "id": "e7cQQxH03HPy"
      },
      "outputs": [],
      "source": [
        "import pandas as pd \n",
        "import numpy as np"
      ]
    },
    {
      "cell_type": "code",
      "source": [
        "df = pd.read_csv('Train.csv')"
      ],
      "metadata": {
        "id": "JKU-PZrk3Ydv"
      },
      "execution_count": 2,
      "outputs": []
    },
    {
      "cell_type": "code",
      "source": [
        "df = df[:5000]"
      ],
      "metadata": {
        "id": "776ojDxGDaAq"
      },
      "execution_count": 3,
      "outputs": []
    },
    {
      "cell_type": "code",
      "source": [
        "df.info()"
      ],
      "metadata": {
        "colab": {
          "base_uri": "https://localhost:8080/"
        },
        "id": "g7LtZxeNDx5N",
        "outputId": "8620cae4-ef86-4c23-ccc8-2c84c2768e22"
      },
      "execution_count": 4,
      "outputs": [
        {
          "output_type": "stream",
          "name": "stdout",
          "text": [
            "<class 'pandas.core.frame.DataFrame'>\n",
            "RangeIndex: 5000 entries, 0 to 4999\n",
            "Data columns (total 2 columns):\n",
            " #   Column  Non-Null Count  Dtype \n",
            "---  ------  --------------  ----- \n",
            " 0   text    5000 non-null   object\n",
            " 1   label   5000 non-null   int64 \n",
            "dtypes: int64(1), object(1)\n",
            "memory usage: 78.2+ KB\n"
          ]
        }
      ]
    },
    {
      "cell_type": "code",
      "source": [
        "len(df)"
      ],
      "metadata": {
        "colab": {
          "base_uri": "https://localhost:8080/"
        },
        "id": "JKyrIiPLDqa-",
        "outputId": "b456e7c2-1ec0-4ac9-e4e7-db30cd65c49f"
      },
      "execution_count": 5,
      "outputs": [
        {
          "output_type": "execute_result",
          "data": {
            "text/plain": [
              "5000"
            ]
          },
          "metadata": {},
          "execution_count": 5
        }
      ]
    },
    {
      "cell_type": "code",
      "source": [
        "import re\n",
        "import nltk\n",
        "nltk.download('stopwords')\n",
        "from nltk.corpus import stopwords\n",
        "from nltk.stem.porter import PorterStemmer\n",
        "corpus = []\n",
        "for i in range(0, 5000):\n",
        "  review = re.sub('[^a-zA-Z]', ' ', df['text'][i])\n",
        "  review = review.lower()\n",
        "  review = review.split()\n",
        "  ps = PorterStemmer()\n",
        "  all_stopwords = stopwords.words('english')\n",
        "  all_stopwords.remove('not')\n",
        "  review = [ps.stem(word) for word in review if not word in set(all_stopwords)]\n",
        "  review = ' '.join(review)\n",
        "  corpus.append(review)"
      ],
      "metadata": {
        "colab": {
          "base_uri": "https://localhost:8080/"
        },
        "id": "Wn1ooAMoDddM",
        "outputId": "3274c828-2f27-4abe-e899-2d58d803cdec"
      },
      "execution_count": 6,
      "outputs": [
        {
          "output_type": "stream",
          "name": "stdout",
          "text": [
            "[nltk_data] Downloading package stopwords to /root/nltk_data...\n",
            "[nltk_data]   Package stopwords is already up-to-date!\n"
          ]
        }
      ]
    },
    {
      "cell_type": "code",
      "source": [
        "print(corpus)"
      ],
      "metadata": {
        "colab": {
          "base_uri": "https://localhost:8080/"
        },
        "id": "gyGAL_yxD5eT",
        "outputId": "96222a40-883d-4648-c192-bfa6c6525ba9"
      },
      "execution_count": 7,
      "outputs": [
        {
          "output_type": "stream",
          "name": "stderr",
          "text": [
            "IOPub data rate exceeded.\n",
            "The notebook server will temporarily stop sending output\n",
            "to the client in order to avoid crashing it.\n",
            "To change this limit, set the config variable\n",
            "`--NotebookApp.iopub_data_rate_limit`.\n",
            "\n",
            "Current values:\n",
            "NotebookApp.iopub_data_rate_limit=1000000.0 (bytes/sec)\n",
            "NotebookApp.rate_limit_window=3.0 (secs)\n",
            "\n"
          ]
        }
      ]
    },
    {
      "cell_type": "code",
      "source": [
        "from sklearn.feature_extraction.text import CountVectorizer\n",
        "cv = CountVectorizer(max_features=20000)\n",
        "X = cv.fit_transform(corpus).toarray()\n",
        "y = df['label']"
      ],
      "metadata": {
        "id": "TSvaCipSDhcB"
      },
      "execution_count": 8,
      "outputs": []
    },
    {
      "cell_type": "code",
      "source": [
        "len(X[0])"
      ],
      "metadata": {
        "colab": {
          "base_uri": "https://localhost:8080/"
        },
        "id": "_PUCC16wEqFC",
        "outputId": "a8a4554c-90be-48fe-fe7d-761c88fb86e7"
      },
      "execution_count": 9,
      "outputs": [
        {
          "output_type": "execute_result",
          "data": {
            "text/plain": [
              "20000"
            ]
          },
          "metadata": {},
          "execution_count": 9
        }
      ]
    },
    {
      "cell_type": "code",
      "source": [
        "from sklearn.model_selection import train_test_split"
      ],
      "metadata": {
        "id": "QnM-qAneJgSt"
      },
      "execution_count": 10,
      "outputs": []
    },
    {
      "cell_type": "code",
      "source": [
        "X_train, X_test, y_train, y_test = train_test_split(X, y, test_size=0.3, random_state=0)"
      ],
      "metadata": {
        "id": "JO4VjQncJntK"
      },
      "execution_count": 11,
      "outputs": []
    },
    {
      "cell_type": "code",
      "source": [
        "from sklearn.metrics import accuracy_score , confusion_matrix"
      ],
      "metadata": {
        "id": "wyoeS1etJpKU"
      },
      "execution_count": 12,
      "outputs": []
    },
    {
      "cell_type": "code",
      "source": [
        "from sklearn.linear_model import LogisticRegression\n",
        "\n",
        "from sklearn.metrics import f1_score,recall_score,precision_score,roc_auc_score,accuracy_score\n",
        "\n",
        "from sklearn.model_selection import StratifiedKFold,cross_val_score,RandomizedSearchCV,GridSearchCV\n",
        "from sklearn.linear_model import LogisticRegression\n",
        "from sklearn.ensemble import RandomForestClassifier\n",
        "from sklearn.neighbors import KNeighborsClassifier\n",
        "from sklearn.svm import SVC\n",
        "from sklearn.metrics import f1_score,recall_score,precision_score,roc_auc_score,accuracy_score\n",
        "from xgboost import XGBClassifier"
      ],
      "metadata": {
        "id": "3hB_hC4oJqdk"
      },
      "execution_count": 13,
      "outputs": []
    },
    {
      "cell_type": "code",
      "source": [
        "df['label'].value_counts()"
      ],
      "metadata": {
        "colab": {
          "base_uri": "https://localhost:8080/"
        },
        "id": "9b4QXgMKJsAc",
        "outputId": "6b75ea96-2157-489e-ab15-f2feb594caee"
      },
      "execution_count": 14,
      "outputs": [
        {
          "output_type": "execute_result",
          "data": {
            "text/plain": [
              "0    2582\n",
              "1    2418\n",
              "Name: label, dtype: int64"
            ]
          },
          "metadata": {},
          "execution_count": 14
        }
      ]
    },
    {
      "cell_type": "code",
      "source": [
        "logstic = LogisticRegression()\n",
        "logstic.fit(X_train,y_train)\n",
        "logstic_pre = logstic.predict(X_test)\n",
        "print(\"logstic recall:\",round(recall_score(y_test,logstic_pre),2))\n",
        "print(\"logstic precision:\",round(precision_score(y_test,logstic_pre),2))\n",
        "print(\"logstic f1_score:\",round(f1_score(y_test,logstic_pre),2))\n",
        "print(\"logstic rou_auc_score:\",round(roc_auc_score(y_test,logstic_pre),2))\n",
        "print('accuracy_score :',round(accuracy_score(y_test,logstic_pre),2))"
      ],
      "metadata": {
        "colab": {
          "base_uri": "https://localhost:8080/"
        },
        "id": "XsW212ZsJvmL",
        "outputId": "c870cb50-88e7-46a0-c93e-ed6b42f0600d"
      },
      "execution_count": 15,
      "outputs": [
        {
          "output_type": "stream",
          "name": "stdout",
          "text": [
            "logstic recall: 0.85\n",
            "logstic precision: 0.84\n",
            "logstic f1_score: 0.84\n",
            "logstic rou_auc_score: 0.84\n",
            "accuracy_score : 0.84\n"
          ]
        },
        {
          "output_type": "stream",
          "name": "stderr",
          "text": [
            "/usr/local/lib/python3.7/dist-packages/sklearn/linear_model/_logistic.py:818: ConvergenceWarning: lbfgs failed to converge (status=1):\n",
            "STOP: TOTAL NO. of ITERATIONS REACHED LIMIT.\n",
            "\n",
            "Increase the number of iterations (max_iter) or scale the data as shown in:\n",
            "    https://scikit-learn.org/stable/modules/preprocessing.html\n",
            "Please also refer to the documentation for alternative solver options:\n",
            "    https://scikit-learn.org/stable/modules/linear_model.html#logistic-regression\n",
            "  extra_warning_msg=_LOGISTIC_SOLVER_CONVERGENCE_MSG,\n"
          ]
        }
      ]
    },
    {
      "cell_type": "code",
      "source": [
        "#Default\n",
        "xgb = XGBClassifier()\n",
        "xgb.fit(X_train,y_train)\n",
        "xgb_pre = xgb.predict(X_test)\n",
        "print(\"xgb recall:\",round(recall_score(y_test,xgb_pre),2))\n",
        "print(\"xgb precision:\",round(precision_score(y_test,xgb_pre),2))\n",
        "print(\"xgb f1_score:\",round(f1_score(y_test,xgb_pre),2))\n",
        "print(\"xgb rou_auc_score:\",round(roc_auc_score(y_test,xgb_pre),2))\n",
        "print('accuracy_score :',round(accuracy_score(y_test,xgb_pre),2))"
      ],
      "metadata": {
        "colab": {
          "base_uri": "https://localhost:8080/"
        },
        "id": "Dxu-bPNhJ_9Z",
        "outputId": "9d5eb739-49bf-40e0-87b5-70bdfadb5420"
      },
      "execution_count": 16,
      "outputs": [
        {
          "output_type": "stream",
          "name": "stdout",
          "text": [
            "xgb recall: 0.81\n",
            "xgb precision: 0.78\n",
            "xgb f1_score: 0.79\n",
            "xgb rou_auc_score: 0.79\n",
            "accuracy_score : 0.79\n"
          ]
        }
      ]
    },
    {
      "cell_type": "code",
      "source": [
        ""
      ],
      "metadata": {
        "id": "lXm8EpUnKry6"
      },
      "execution_count": 16,
      "outputs": []
    },
    {
      "cell_type": "code",
      "source": [
        "rf = RandomForestClassifier(random_state=123)\n",
        "rf.fit(X_train,y_train)\n",
        "rf_pre = rf.predict(X_test)\n",
        "print(\"rf recall:\",round(recall_score(y_test,rf_pre),2))\n",
        "print(\"rf precision:\",round(precision_score(y_test,rf_pre),2))\n",
        "print(\"rf f1_score:\",round(f1_score(y_test,rf_pre),2))\n",
        "print(\"accuracy_score:\",(accuracy_score(y_test,rf_pre)))\n"
      ],
      "metadata": {
        "colab": {
          "base_uri": "https://localhost:8080/"
        },
        "id": "tl66PPorRfgr",
        "outputId": "f37fb912-cc65-47c6-d1cb-a2b1a2cdc333"
      },
      "execution_count": 17,
      "outputs": [
        {
          "output_type": "stream",
          "name": "stdout",
          "text": [
            "rf recall: 0.79\n",
            "rf precision: 0.85\n",
            "rf f1_score: 0.82\n",
            "accuracy_score: 0.822\n"
          ]
        }
      ]
    },
    {
      "cell_type": "code",
      "source": [
        ""
      ],
      "metadata": {
        "id": "dCYNWLBPRfvC"
      },
      "execution_count": null,
      "outputs": []
    }
  ]
}